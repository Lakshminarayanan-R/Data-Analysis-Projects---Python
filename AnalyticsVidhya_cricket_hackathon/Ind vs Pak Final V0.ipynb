{
 "cells": [
  {
   "cell_type": "markdown",
   "id": "cec1611d",
   "metadata": {},
   "source": [
    "<h1><center>Ind vs Pak Cricket Hackathon"
   ]
  },
  {
   "cell_type": "code",
   "execution_count": 1,
   "id": "5198789d",
   "metadata": {},
   "outputs": [],
   "source": [
    "#Importing the required libraries\n",
    "import pandas as pd\n",
    "import numpy as np"
   ]
  },
  {
   "cell_type": "code",
   "execution_count": 2,
   "id": "648378dd",
   "metadata": {
    "scrolled": true
   },
   "outputs": [
    {
     "data": {
      "text/html": [
       "<div>\n",
       "<style scoped>\n",
       "    .dataframe tbody tr th:only-of-type {\n",
       "        vertical-align: middle;\n",
       "    }\n",
       "\n",
       "    .dataframe tbody tr th {\n",
       "        vertical-align: top;\n",
       "    }\n",
       "\n",
       "    .dataframe thead th {\n",
       "        text-align: right;\n",
       "    }\n",
       "</style>\n",
       "<table border=\"1\" class=\"dataframe\">\n",
       "  <thead>\n",
       "    <tr style=\"text-align: right;\">\n",
       "      <th></th>\n",
       "      <th>player_id</th>\n",
       "      <th>player_name</th>\n",
       "      <th>runs_scored</th>\n",
       "      <th>wickets</th>\n",
       "      <th>runs_conceded</th>\n",
       "      <th>catches</th>\n",
       "      <th>stumpings</th>\n",
       "      <th>match_date</th>\n",
       "      <th>opposition</th>\n",
       "      <th>match_id</th>\n",
       "    </tr>\n",
       "  </thead>\n",
       "  <tbody>\n",
       "    <tr>\n",
       "      <th>0</th>\n",
       "      <td>1</td>\n",
       "      <td>Rohit Sharma</td>\n",
       "      <td>DNB</td>\n",
       "      <td>-</td>\n",
       "      <td>-</td>\n",
       "      <td>1</td>\n",
       "      <td>0</td>\n",
       "      <td>23 Jun 2007</td>\n",
       "      <td>v Ireland Belfast</td>\n",
       "      <td>1</td>\n",
       "    </tr>\n",
       "    <tr>\n",
       "      <th>1</th>\n",
       "      <td>1</td>\n",
       "      <td>Rohit Sharma</td>\n",
       "      <td>8</td>\n",
       "      <td>0</td>\n",
       "      <td>3</td>\n",
       "      <td>1</td>\n",
       "      <td>0</td>\n",
       "      <td>26 Jun 2007</td>\n",
       "      <td>v South Africa Belfast</td>\n",
       "      <td>2</td>\n",
       "    </tr>\n",
       "    <tr>\n",
       "      <th>2</th>\n",
       "      <td>1</td>\n",
       "      <td>Rohit Sharma</td>\n",
       "      <td>1</td>\n",
       "      <td>-</td>\n",
       "      <td>-</td>\n",
       "      <td>0</td>\n",
       "      <td>0</td>\n",
       "      <td>5 Oct 2007</td>\n",
       "      <td>v Australia Hyderabad</td>\n",
       "      <td>3</td>\n",
       "    </tr>\n",
       "    <tr>\n",
       "      <th>3</th>\n",
       "      <td>1</td>\n",
       "      <td>Rohit Sharma</td>\n",
       "      <td>52</td>\n",
       "      <td>-</td>\n",
       "      <td>-</td>\n",
       "      <td>1</td>\n",
       "      <td>0</td>\n",
       "      <td>18 Nov 2007</td>\n",
       "      <td>v Pakistan Jaipur</td>\n",
       "      <td>4</td>\n",
       "    </tr>\n",
       "    <tr>\n",
       "      <th>4</th>\n",
       "      <td>1</td>\n",
       "      <td>Rohit Sharma</td>\n",
       "      <td>29</td>\n",
       "      <td>-</td>\n",
       "      <td>-</td>\n",
       "      <td>0</td>\n",
       "      <td>0</td>\n",
       "      <td>3 Feb 2008</td>\n",
       "      <td>v Australia Brisbane</td>\n",
       "      <td>5</td>\n",
       "    </tr>\n",
       "  </tbody>\n",
       "</table>\n",
       "</div>"
      ],
      "text/plain": [
       "   player_id   player_name runs_scored wickets runs_conceded catches  \\\n",
       "0          1  Rohit Sharma         DNB       -             -       1   \n",
       "1          1  Rohit Sharma           8       0             3       1   \n",
       "2          1  Rohit Sharma           1       -             -       0   \n",
       "3          1  Rohit Sharma          52       -             -       1   \n",
       "4          1  Rohit Sharma          29       -             -       0   \n",
       "\n",
       "  stumpings   match_date              opposition  match_id  \n",
       "0         0  23 Jun 2007       v Ireland Belfast         1  \n",
       "1         0  26 Jun 2007  v South Africa Belfast         2  \n",
       "2         0   5 Oct 2007   v Australia Hyderabad         3  \n",
       "3         0  18 Nov 2007       v Pakistan Jaipur         4  \n",
       "4         0   3 Feb 2008    v Australia Brisbane         5  "
      ]
     },
     "execution_count": 2,
     "metadata": {},
     "output_type": "execute_result"
    }
   ],
   "source": [
    "#Reading the training file\n",
    "df = pd.read_csv('train-file.csv')\n",
    "df.head()"
   ]
  },
  {
   "cell_type": "code",
   "execution_count": 3,
   "id": "8f65df03",
   "metadata": {},
   "outputs": [
    {
     "data": {
      "text/plain": [
       "(2021, 7)"
      ]
     },
     "execution_count": 3,
     "metadata": {},
     "output_type": "execute_result"
    }
   ],
   "source": [
    "#There are features in the dataframe like runs_conceded, catches and stumping which cannot be obtained for a future match and therefore removing it from the dataframe\n",
    "df.drop(columns=['runs_conceded','catches','stumpings'],inplace=True)\n",
    "df.shape"
   ]
  },
  {
   "cell_type": "code",
   "execution_count": 4,
   "id": "86429a03",
   "metadata": {
    "scrolled": true
   },
   "outputs": [
    {
     "data": {
      "text/plain": [
       "array(['Ireland', 'South Africa', 'Australia', 'Pakistan', 'Sri Lanka',\n",
       "       'Bangladesh', 'Hong Kong', 'England', 'New Zealand', 'West Indies',\n",
       "       'Zimbabwe', 'Afghanistan', 'U.A.E.', 'India', 'Nepal',\n",
       "       'Netherlands'], dtype=object)"
      ]
     },
     "execution_count": 4,
     "metadata": {},
     "output_type": "execute_result"
    }
   ],
   "source": [
    "#Creating new feature opposition team to generate and save team name from the feature opposition\n",
    "international_cricket_teams = [\"Australia\", \"Bangladesh\", \"England\", \"India\", \"New Zealand\", \"Pakistan\",\n",
    "                               \"South Africa\", \"Sri Lanka\", \"West Indies\", \"Zimbabwe\",\"Ireland\",\n",
    "                              \"Hong Kong\", \"Afghanistan\", \"Nepal\",\"Netherlands\",\"U.A.E.\"]\n",
    "df['opposition_team'] = df['opposition'].apply(lambda x : [i for i in international_cricket_teams if i in x][0])\n",
    "df['opposition_team'].unique()"
   ]
  },
  {
   "cell_type": "code",
   "execution_count": 5,
   "id": "ea168e11",
   "metadata": {
    "scrolled": true
   },
   "outputs": [
    {
     "data": {
      "text/plain": [
       "array(['Belfast', 'Hyderabad', 'Jaipur', 'Brisbane', 'Melbourne',\n",
       "       'Canberra', 'Adelaide', 'Sydney', 'Hobart', 'Mirpur', 'Karachi',\n",
       "       'Dambulla', 'Colombo (RPS)', 'Rajkot', 'Indore', 'Kanpur',\n",
       "       'Cuttack', 'Hamilton', 'Auckland', 'Kingston', 'Gros Islet',\n",
       "       'Ahmedabad', 'Bulawayo', 'Harare', 'Bengaluru', 'Chennai',\n",
       "       'Durban', 'Johannesburg', 'Cape Town', 'Gqeberha', 'Centurion',\n",
       "       'Port of Spain', 'North Sound', 'Chester-le-Street',\n",
       "       'Visakhapatnam', 'Perth', 'Hambantota', 'Pallekele', 'Mohali',\n",
       "       'Dharamsala', 'Cardiff', 'The Oval', 'Birmingham', 'Pune',\n",
       "       'Ranchi', 'Nagpur', 'Kochi', 'Napier', 'Wellington', 'Fatullah',\n",
       "       'Eden Gardens', 'Wankhede', 'Delhi', 'Nottingham', \"Lord's\",\n",
       "       'Leeds', 'Dubai (DSC)', 'Guwahati', 'Brabourne',\n",
       "       'Thiruvananthapuram', 'Mount Maunganui', 'Southampton',\n",
       "       'Manchester', 'Providence', 'Raipur', 'Bridgetown', 'Tarouba',\n",
       "       'Lucknow', 'Christchurch', 'Vadodara', 'Gwalior', 'Paarl',\n",
       "       'Chattogram', 'Lahore', 'Abu Dhabi', 'Sharjah',\n",
       "       'Dublin (Malahide)', 'Nelson', 'Dunedin', 'Bristol', 'Taunton',\n",
       "       'Rawalpindi', 'Multan', 'Rotterdam'], dtype=object)"
      ]
     },
     "execution_count": 5,
     "metadata": {},
     "output_type": "execute_result"
    }
   ],
   "source": [
    "#Creating new feature location to generate and save the match location from the feature opposition\n",
    "df['location'] = df.apply(lambda x : x['opposition'].replace('v ' + str(x['opposition_team']) + ' ',''), axis = 1)\n",
    "df['location'].unique()"
   ]
  },
  {
   "cell_type": "code",
   "execution_count": 6,
   "id": "52ab351b",
   "metadata": {},
   "outputs": [],
   "source": [
    "df.drop(columns = 'opposition',inplace=True)"
   ]
  },
  {
   "cell_type": "code",
   "execution_count": 7,
   "id": "5c1173be",
   "metadata": {
    "scrolled": false
   },
   "outputs": [
    {
     "data": {
      "text/html": [
       "<div>\n",
       "<style scoped>\n",
       "    .dataframe tbody tr th:only-of-type {\n",
       "        vertical-align: middle;\n",
       "    }\n",
       "\n",
       "    .dataframe tbody tr th {\n",
       "        vertical-align: top;\n",
       "    }\n",
       "\n",
       "    .dataframe thead th {\n",
       "        text-align: right;\n",
       "    }\n",
       "</style>\n",
       "<table border=\"1\" class=\"dataframe\">\n",
       "  <thead>\n",
       "    <tr style=\"text-align: right;\">\n",
       "      <th></th>\n",
       "      <th>player_id</th>\n",
       "      <th>player_name</th>\n",
       "      <th>runs_scored</th>\n",
       "      <th>wickets</th>\n",
       "      <th>match_date</th>\n",
       "      <th>match_id</th>\n",
       "      <th>opposition_team</th>\n",
       "      <th>location</th>\n",
       "    </tr>\n",
       "  </thead>\n",
       "  <tbody>\n",
       "    <tr>\n",
       "      <th>0</th>\n",
       "      <td>1</td>\n",
       "      <td>Rohit Sharma</td>\n",
       "      <td>DNB</td>\n",
       "      <td>-</td>\n",
       "      <td>23 Jun 2007</td>\n",
       "      <td>1</td>\n",
       "      <td>Ireland</td>\n",
       "      <td>Belfast</td>\n",
       "    </tr>\n",
       "    <tr>\n",
       "      <th>1</th>\n",
       "      <td>1</td>\n",
       "      <td>Rohit Sharma</td>\n",
       "      <td>8</td>\n",
       "      <td>0</td>\n",
       "      <td>26 Jun 2007</td>\n",
       "      <td>2</td>\n",
       "      <td>South Africa</td>\n",
       "      <td>Belfast</td>\n",
       "    </tr>\n",
       "    <tr>\n",
       "      <th>2</th>\n",
       "      <td>1</td>\n",
       "      <td>Rohit Sharma</td>\n",
       "      <td>1</td>\n",
       "      <td>-</td>\n",
       "      <td>5 Oct 2007</td>\n",
       "      <td>3</td>\n",
       "      <td>Australia</td>\n",
       "      <td>Hyderabad</td>\n",
       "    </tr>\n",
       "    <tr>\n",
       "      <th>3</th>\n",
       "      <td>1</td>\n",
       "      <td>Rohit Sharma</td>\n",
       "      <td>52</td>\n",
       "      <td>-</td>\n",
       "      <td>18 Nov 2007</td>\n",
       "      <td>4</td>\n",
       "      <td>Pakistan</td>\n",
       "      <td>Jaipur</td>\n",
       "    </tr>\n",
       "    <tr>\n",
       "      <th>4</th>\n",
       "      <td>1</td>\n",
       "      <td>Rohit Sharma</td>\n",
       "      <td>29</td>\n",
       "      <td>-</td>\n",
       "      <td>3 Feb 2008</td>\n",
       "      <td>5</td>\n",
       "      <td>Australia</td>\n",
       "      <td>Brisbane</td>\n",
       "    </tr>\n",
       "  </tbody>\n",
       "</table>\n",
       "</div>"
      ],
      "text/plain": [
       "   player_id   player_name runs_scored wickets   match_date  match_id  \\\n",
       "0          1  Rohit Sharma         DNB       -  23 Jun 2007         1   \n",
       "1          1  Rohit Sharma           8       0  26 Jun 2007         2   \n",
       "2          1  Rohit Sharma           1       -   5 Oct 2007         3   \n",
       "3          1  Rohit Sharma          52       -  18 Nov 2007         4   \n",
       "4          1  Rohit Sharma          29       -   3 Feb 2008         5   \n",
       "\n",
       "  opposition_team   location  \n",
       "0         Ireland    Belfast  \n",
       "1    South Africa    Belfast  \n",
       "2       Australia  Hyderabad  \n",
       "3        Pakistan     Jaipur  \n",
       "4       Australia   Brisbane  "
      ]
     },
     "execution_count": 7,
     "metadata": {},
     "output_type": "execute_result"
    }
   ],
   "source": [
    "df.head()"
   ]
  },
  {
   "cell_type": "code",
   "execution_count": 8,
   "id": "4b2e1184",
   "metadata": {
    "scrolled": false
   },
   "outputs": [
    {
     "data": {
      "text/plain": [
       "array(['DNB', '8', '1', '52', '29', '0', '39*', '70*', '24', '3*', '66',\n",
       "       '2', '9', '26', '11', '0*', '22', '58', '22*', '3', '19', '12',\n",
       "       '37', '32', '25', '18', '54', '31', '11*', '28', '8*', '25*', '4*',\n",
       "       '15', '60*', '43*', '4', '7', 'TDNB', '48', '57', '36', '114',\n",
       "       '61*', '101*', '82', '13', '51', '68', '38', '6', '69', '10', '41',\n",
       "       '20', '5', '44', '23', '87*', '68*', '7*', '81', '86*', '39', '94',\n",
       "       '55', '72', '90*', '117', '9*', '95', '27', '23*', '21', '80',\n",
       "       '77', '24*', '30*', '33', '1*', '14', '108', '183', '106', '128*',\n",
       "       '2*', '31*', '83', '21*', '65', '47*', '58*', '43', '33*', '60',\n",
       "       '5*', '49*', '46', '102', '48*', '115', '6*', '64*', '42', '61',\n",
       "       '141*', '100*', '79', '115*', '209', '86', '99', '123', '78',\n",
       "       '66*', '62*', '14*', '136', '56', '52*', '18*', '10*', '264',\n",
       "       '139*', '138', '107', '57*', '16*', '64', '44*', '16', '137', '34',\n",
       "       '63', '150', '171*', '91', '124', '59', '85*', '154*', '45', '70',\n",
       "       '20*', '81*', '76*', '123*', '96*', '76', '82*', '124*', '17',\n",
       "       '104', '131', '110*', '92', '71', '125', '121', '30', '147', '113',\n",
       "       '208*', '88', '112', '46*', '160*', '75', '129*', '137*', '47',\n",
       "       '83*', '111*', '15*', '152*', '140', '157*', '162', '63*', '133',\n",
       "       '87', '62', '116', '122*', '67', '103', '34*', '111', '120',\n",
       "       '114*', '159', '53', '85', '17*', '119', '89', '35', '49', '73',\n",
       "       '51*', '166*', '208', '40*', '101', '40', '12*', '74*', '67*',\n",
       "       'absent', '27*', '122', '19*', '32*', '90', '92*', '75*', '45*',\n",
       "       '98*', '130', '50', '113*', '93', '28*', '74', '105', '13*', '72*',\n",
       "       '79*', '71*', '102*', '118', '36*', '112*', '26*', '133*', '77*',\n",
       "       '127', '88*', '50*', '210', '84', '100', '125*', '38*', '69*',\n",
       "       '128', '29*', '117*', '210*', '106*', '110', '41*', '42*', '151',\n",
       "       '96', '193', '158', '105*', '89*', '109', '180*', '54*', '94*',\n",
       "       '109*', '35*'], dtype=object)"
      ]
     },
     "execution_count": 8,
     "metadata": {},
     "output_type": "execute_result"
    }
   ],
   "source": [
    "df.runs_scored.unique()"
   ]
  },
  {
   "cell_type": "code",
   "execution_count": 9,
   "id": "39d4e9a9",
   "metadata": {
    "scrolled": true
   },
   "outputs": [
    {
     "name": "stderr",
     "output_type": "stream",
     "text": [
      "/var/folders/f4/k3f9xmcn7fj7ybjldy_7gnpw0000gn/T/ipykernel_11351/1720642101.py:3: SettingWithCopyWarning: \n",
      "A value is trying to be set on a copy of a slice from a DataFrame\n",
      "\n",
      "See the caveats in the documentation: https://pandas.pydata.org/pandas-docs/stable/user_guide/indexing.html#returning-a-view-versus-a-copy\n",
      "  df[i][j] = str(df[i][j]).replace('TDNB','0')\n",
      "/var/folders/f4/k3f9xmcn7fj7ybjldy_7gnpw0000gn/T/ipykernel_11351/1720642101.py:4: SettingWithCopyWarning: \n",
      "A value is trying to be set on a copy of a slice from a DataFrame\n",
      "\n",
      "See the caveats in the documentation: https://pandas.pydata.org/pandas-docs/stable/user_guide/indexing.html#returning-a-view-versus-a-copy\n",
      "  df[i][j] = str(df[i][j]).replace('DNB','0')\n",
      "/var/folders/f4/k3f9xmcn7fj7ybjldy_7gnpw0000gn/T/ipykernel_11351/1720642101.py:5: SettingWithCopyWarning: \n",
      "A value is trying to be set on a copy of a slice from a DataFrame\n",
      "\n",
      "See the caveats in the documentation: https://pandas.pydata.org/pandas-docs/stable/user_guide/indexing.html#returning-a-view-versus-a-copy\n",
      "  df[i][j] = str(df[i][j]).replace('absent','0')\n",
      "/var/folders/f4/k3f9xmcn7fj7ybjldy_7gnpw0000gn/T/ipykernel_11351/1720642101.py:6: SettingWithCopyWarning: \n",
      "A value is trying to be set on a copy of a slice from a DataFrame\n",
      "\n",
      "See the caveats in the documentation: https://pandas.pydata.org/pandas-docs/stable/user_guide/indexing.html#returning-a-view-versus-a-copy\n",
      "  df[i][j] = str(df[i][j]).replace('*','')\n",
      "/var/folders/f4/k3f9xmcn7fj7ybjldy_7gnpw0000gn/T/ipykernel_11351/1720642101.py:7: SettingWithCopyWarning: \n",
      "A value is trying to be set on a copy of a slice from a DataFrame\n",
      "\n",
      "See the caveats in the documentation: https://pandas.pydata.org/pandas-docs/stable/user_guide/indexing.html#returning-a-view-versus-a-copy\n",
      "  df[i][j] = str(df[i][j]).replace('-','0')\n"
     ]
    }
   ],
   "source": [
    "for i in ['runs_scored', 'wickets']:\n",
    "    for j in range(len(df[i])):\n",
    "        df[i][j] = str(df[i][j]).replace('TDNB','0')\n",
    "        df[i][j] = str(df[i][j]).replace('DNB','0')\n",
    "        df[i][j] = str(df[i][j]).replace('absent','0')\n",
    "        df[i][j] = str(df[i][j]).replace('*','')\n",
    "        df[i][j] = str(df[i][j]).replace('-','0')"
   ]
  },
  {
   "cell_type": "code",
   "execution_count": 10,
   "id": "87d933d4",
   "metadata": {
    "scrolled": true
   },
   "outputs": [
    {
     "data": {
      "text/plain": [
       "array(['0', '8', '1', '52', '29', '39', '70', '24', '3', '66', '2', '9',\n",
       "       '26', '11', '22', '58', '19', '12', '37', '32', '25', '18', '54',\n",
       "       '31', '28', '4', '15', '60', '43', '7', '48', '57', '36', '114',\n",
       "       '61', '101', '82', '13', '51', '68', '38', '6', '69', '10', '41',\n",
       "       '20', '5', '44', '23', '87', '81', '86', '94', '55', '72', '90',\n",
       "       '117', '95', '27', '21', '80', '77', '30', '33', '14', '108',\n",
       "       '183', '106', '128', '83', '65', '47', '49', '46', '102', '115',\n",
       "       '64', '42', '141', '100', '79', '209', '99', '123', '78', '62',\n",
       "       '136', '56', '264', '139', '138', '107', '16', '137', '34', '63',\n",
       "       '150', '171', '91', '124', '59', '85', '154', '45', '76', '96',\n",
       "       '17', '104', '131', '110', '92', '71', '125', '121', '147', '113',\n",
       "       '208', '88', '112', '160', '75', '129', '111', '152', '140', '157',\n",
       "       '162', '133', '116', '122', '67', '103', '120', '159', '53', '119',\n",
       "       '89', '35', '73', '166', '40', '74', '98', '130', '50', '93',\n",
       "       '105', '118', '127', '210', '84', '151', '193', '158', '109',\n",
       "       '180'], dtype=object)"
      ]
     },
     "execution_count": 10,
     "metadata": {},
     "output_type": "execute_result"
    }
   ],
   "source": [
    "df['runs_scored'].unique()"
   ]
  },
  {
   "cell_type": "code",
   "execution_count": 11,
   "id": "df86012c",
   "metadata": {
    "scrolled": true
   },
   "outputs": [
    {
     "name": "stdout",
     "output_type": "stream",
     "text": [
      "<class 'pandas.core.frame.DataFrame'>\n",
      "RangeIndex: 2021 entries, 0 to 2020\n",
      "Data columns (total 8 columns):\n",
      " #   Column           Non-Null Count  Dtype \n",
      "---  ------           --------------  ----- \n",
      " 0   player_id        2021 non-null   int64 \n",
      " 1   player_name      2021 non-null   object\n",
      " 2   runs_scored      2021 non-null   object\n",
      " 3   wickets          2021 non-null   object\n",
      " 4   match_date       2021 non-null   object\n",
      " 5   match_id         2021 non-null   int64 \n",
      " 6   opposition_team  2021 non-null   object\n",
      " 7   location         2021 non-null   object\n",
      "dtypes: int64(2), object(6)\n",
      "memory usage: 126.4+ KB\n"
     ]
    }
   ],
   "source": [
    "df.info()"
   ]
  },
  {
   "cell_type": "code",
   "execution_count": 12,
   "id": "9564f7e3",
   "metadata": {},
   "outputs": [],
   "source": [
    "df['runs_scored'] = df['runs_scored'].astype('int')\n",
    "df['wickets'] = df['wickets'].astype('int')"
   ]
  },
  {
   "cell_type": "code",
   "execution_count": 13,
   "id": "a9999b30",
   "metadata": {
    "scrolled": true
   },
   "outputs": [
    {
     "data": {
      "text/html": [
       "<div>\n",
       "<style scoped>\n",
       "    .dataframe tbody tr th:only-of-type {\n",
       "        vertical-align: middle;\n",
       "    }\n",
       "\n",
       "    .dataframe tbody tr th {\n",
       "        vertical-align: top;\n",
       "    }\n",
       "\n",
       "    .dataframe thead th {\n",
       "        text-align: right;\n",
       "    }\n",
       "</style>\n",
       "<table border=\"1\" class=\"dataframe\">\n",
       "  <thead>\n",
       "    <tr style=\"text-align: right;\">\n",
       "      <th></th>\n",
       "      <th>player_id</th>\n",
       "      <th>player_name</th>\n",
       "    </tr>\n",
       "  </thead>\n",
       "  <tbody>\n",
       "    <tr>\n",
       "      <th>0</th>\n",
       "      <td>1</td>\n",
       "      <td>Rohit Sharma</td>\n",
       "    </tr>\n",
       "    <tr>\n",
       "      <th>447</th>\n",
       "      <td>2</td>\n",
       "      <td>Hardik Pandya</td>\n",
       "    </tr>\n",
       "    <tr>\n",
       "      <th>706</th>\n",
       "      <td>3</td>\n",
       "      <td>Shubman Gill</td>\n",
       "    </tr>\n",
       "    <tr>\n",
       "      <th>24</th>\n",
       "      <td>4</td>\n",
       "      <td>Virat Kohli</td>\n",
       "    </tr>\n",
       "    <tr>\n",
       "      <th>563</th>\n",
       "      <td>5</td>\n",
       "      <td>Shreyas Iyer</td>\n",
       "    </tr>\n",
       "    <tr>\n",
       "      <th>500</th>\n",
       "      <td>6</td>\n",
       "      <td>KL Rahul</td>\n",
       "    </tr>\n",
       "    <tr>\n",
       "      <th>40</th>\n",
       "      <td>7</td>\n",
       "      <td>Ravindra Jadeja</td>\n",
       "    </tr>\n",
       "    <tr>\n",
       "      <th>516</th>\n",
       "      <td>8</td>\n",
       "      <td>Shardul Thakur</td>\n",
       "    </tr>\n",
       "    <tr>\n",
       "      <th>445</th>\n",
       "      <td>9</td>\n",
       "      <td>Jasprit Bumrah</td>\n",
       "    </tr>\n",
       "    <tr>\n",
       "      <th>684</th>\n",
       "      <td>10</td>\n",
       "      <td>Mohammed Siraj</td>\n",
       "    </tr>\n",
       "    <tr>\n",
       "      <th>518</th>\n",
       "      <td>11</td>\n",
       "      <td>Kuldeep Yadav</td>\n",
       "    </tr>\n",
       "    <tr>\n",
       "      <th>187</th>\n",
       "      <td>12</td>\n",
       "      <td>Mohammed Shami</td>\n",
       "    </tr>\n",
       "    <tr>\n",
       "      <th>64</th>\n",
       "      <td>13</td>\n",
       "      <td>Ravichandran ashwin</td>\n",
       "    </tr>\n",
       "    <tr>\n",
       "      <th>890</th>\n",
       "      <td>14</td>\n",
       "      <td>Ishan Kishan</td>\n",
       "    </tr>\n",
       "    <tr>\n",
       "      <th>891</th>\n",
       "      <td>15</td>\n",
       "      <td>Suryakumar Yadav</td>\n",
       "    </tr>\n",
       "    <tr>\n",
       "      <th>469</th>\n",
       "      <td>16</td>\n",
       "      <td>Babar Azam</td>\n",
       "    </tr>\n",
       "    <tr>\n",
       "      <th>470</th>\n",
       "      <td>17</td>\n",
       "      <td>Shadab Khan</td>\n",
       "    </tr>\n",
       "    <tr>\n",
       "      <th>1859</th>\n",
       "      <td>18</td>\n",
       "      <td>Abdullah Shafique</td>\n",
       "    </tr>\n",
       "    <tr>\n",
       "      <th>496</th>\n",
       "      <td>19</td>\n",
       "      <td>Faqar Zaman</td>\n",
       "    </tr>\n",
       "    <tr>\n",
       "      <th>1034</th>\n",
       "      <td>20</td>\n",
       "      <td>Haris Rauf</td>\n",
       "    </tr>\n",
       "    <tr>\n",
       "      <th>1787</th>\n",
       "      <td>21</td>\n",
       "      <td>Hasan Ali</td>\n",
       "    </tr>\n",
       "    <tr>\n",
       "      <th>1035</th>\n",
       "      <td>22</td>\n",
       "      <td>Iftikhar Ahmed</td>\n",
       "    </tr>\n",
       "    <tr>\n",
       "      <th>634</th>\n",
       "      <td>23</td>\n",
       "      <td>Imam-Ul-Haq</td>\n",
       "    </tr>\n",
       "    <tr>\n",
       "      <th>647</th>\n",
       "      <td>24</td>\n",
       "      <td>Mohammad Nawaz</td>\n",
       "    </tr>\n",
       "    <tr>\n",
       "      <th>1038</th>\n",
       "      <td>25</td>\n",
       "      <td>Mohammad Rizwan</td>\n",
       "    </tr>\n",
       "    <tr>\n",
       "      <th>1791</th>\n",
       "      <td>26</td>\n",
       "      <td>Mohammad Wasim Jr.</td>\n",
       "    </tr>\n",
       "    <tr>\n",
       "      <th>1039</th>\n",
       "      <td>27</td>\n",
       "      <td>Salman Agha</td>\n",
       "    </tr>\n",
       "    <tr>\n",
       "      <th>1766</th>\n",
       "      <td>28</td>\n",
       "      <td>Saud Shakeel</td>\n",
       "    </tr>\n",
       "    <tr>\n",
       "      <th>648</th>\n",
       "      <td>29</td>\n",
       "      <td>Shaheen Shah Afridi</td>\n",
       "    </tr>\n",
       "    <tr>\n",
       "      <th>1874</th>\n",
       "      <td>30</td>\n",
       "      <td>Usama Mir</td>\n",
       "    </tr>\n",
       "  </tbody>\n",
       "</table>\n",
       "</div>"
      ],
      "text/plain": [
       "      player_id          player_name\n",
       "0             1         Rohit Sharma\n",
       "447           2        Hardik Pandya\n",
       "706           3         Shubman Gill\n",
       "24            4          Virat Kohli\n",
       "563           5         Shreyas Iyer\n",
       "500           6             KL Rahul\n",
       "40            7      Ravindra Jadeja\n",
       "516           8       Shardul Thakur\n",
       "445           9       Jasprit Bumrah\n",
       "684          10       Mohammed Siraj\n",
       "518          11        Kuldeep Yadav\n",
       "187          12       Mohammed Shami\n",
       "64           13  Ravichandran ashwin\n",
       "890          14         Ishan Kishan\n",
       "891          15     Suryakumar Yadav\n",
       "469          16           Babar Azam\n",
       "470          17          Shadab Khan\n",
       "1859         18    Abdullah Shafique\n",
       "496          19          Faqar Zaman\n",
       "1034         20           Haris Rauf\n",
       "1787         21            Hasan Ali\n",
       "1035         22       Iftikhar Ahmed\n",
       "634          23          Imam-Ul-Haq\n",
       "647          24       Mohammad Nawaz\n",
       "1038         25      Mohammad Rizwan\n",
       "1791         26   Mohammad Wasim Jr.\n",
       "1039         27          Salman Agha\n",
       "1766         28         Saud Shakeel\n",
       "648          29  Shaheen Shah Afridi\n",
       "1874         30            Usama Mir"
      ]
     },
     "execution_count": 13,
     "metadata": {},
     "output_type": "execute_result"
    }
   ],
   "source": [
    "#Printing the player_id with the corresponding player_name for reference\n",
    "df[['player_id','player_name']].drop_duplicates().sort_values(by='player_id',ascending=True)"
   ]
  },
  {
   "cell_type": "code",
   "execution_count": 14,
   "id": "6e8306b4",
   "metadata": {
    "scrolled": true
   },
   "outputs": [
    {
     "data": {
      "text/plain": [
       "['Rohit Sharma',\n",
       " 'Ishan Kishan',\n",
       " 'Virat Kohli',\n",
       " 'Shreyas Iyer',\n",
       " 'KL Rahul',\n",
       " 'Hardik Pandya',\n",
       " 'Ravindra Jadeja',\n",
       " 'Ravichandran ashwin',\n",
       " 'Kuldeep Yadav',\n",
       " 'Jasprit Bumrah',\n",
       " 'Mohammed Siraj']"
      ]
     },
     "execution_count": 14,
     "metadata": {},
     "output_type": "execute_result"
    }
   ],
   "source": [
    "ind_players = \"Rohit Sharma, Ishan Kishan, Virat Kohli, Shreyas Iyer, KL Rahul, Hardik Pandya, Ravindra Jadeja, Ravichandran ashwin, Kuldeep Yadav, Jasprit Bumrah, Mohammed Siraj\"\n",
    "ind_player_list = ind_players.split(', ')\n",
    "ind_player_list"
   ]
  },
  {
   "cell_type": "code",
   "execution_count": 15,
   "id": "8ab0b866",
   "metadata": {
    "scrolled": false
   },
   "outputs": [
    {
     "data": {
      "text/plain": [
       "['Babar Azam',\n",
       " 'Faqar Zaman',\n",
       " 'Imam-Ul-Haq',\n",
       " 'Mohammad Rizwan',\n",
       " 'Saud Shakeel',\n",
       " 'Iftikhar Ahmed',\n",
       " 'Mohammad Nawaz',\n",
       " 'Shadab Khan',\n",
       " 'Hasan Ali',\n",
       " 'Shaheen Afridi',\n",
       " 'Haris Rauf']"
      ]
     },
     "execution_count": 15,
     "metadata": {},
     "output_type": "execute_result"
    }
   ],
   "source": [
    "pak_players = \"Babar Azam, Faqar Zaman, Imam-Ul-Haq, Mohammad Rizwan, Saud Shakeel, Iftikhar Ahmed, Mohammad Nawaz, Shadab Khan, Hasan Ali, Shaheen Afridi, Haris Rauf\"\n",
    "pak_players_list = pak_players.split(', ')\n",
    "pak_players_list"
   ]
  },
  {
   "cell_type": "code",
   "execution_count": 16,
   "id": "6221fefa",
   "metadata": {
    "scrolled": true
   },
   "outputs": [],
   "source": [
    "#Keeping only the playing 11 in the dataset\n",
    "complete_playing_11_list = ind_player_list + pak_players_list\n",
    "df1 = df.copy()\n",
    "df1 = df1[df1['player_name'].isin(complete_playing_11_list)]"
   ]
  },
  {
   "cell_type": "code",
   "execution_count": 17,
   "id": "07c2ea61",
   "metadata": {},
   "outputs": [
    {
     "data": {
      "text/plain": [
       "((2021, 8), (1728, 8))"
      ]
     },
     "execution_count": 17,
     "metadata": {},
     "output_type": "execute_result"
    }
   ],
   "source": [
    "df.shape, df1.shape"
   ]
  },
  {
   "cell_type": "code",
   "execution_count": 18,
   "id": "2ec59a16",
   "metadata": {},
   "outputs": [
    {
     "data": {
      "text/plain": [
       "(110, 8)"
      ]
     },
     "execution_count": 18,
     "metadata": {},
     "output_type": "execute_result"
    }
   ],
   "source": [
    "#Estimating the values for next match using basic stats\n",
    "df2 = df1[df1['opposition_team'].isin([\"India\", \"Pakistan\"])]\n",
    "df2.shape"
   ]
  },
  {
   "cell_type": "code",
   "execution_count": 25,
   "id": "203b1388",
   "metadata": {
    "scrolled": true
   },
   "outputs": [
    {
     "data": {
      "text/html": [
       "<div>\n",
       "<style scoped>\n",
       "    .dataframe tbody tr th:only-of-type {\n",
       "        vertical-align: middle;\n",
       "    }\n",
       "\n",
       "    .dataframe tbody tr th {\n",
       "        vertical-align: top;\n",
       "    }\n",
       "\n",
       "    .dataframe thead th {\n",
       "        text-align: right;\n",
       "    }\n",
       "</style>\n",
       "<table border=\"1\" class=\"dataframe\">\n",
       "  <thead>\n",
       "    <tr style=\"text-align: right;\">\n",
       "      <th></th>\n",
       "      <th>player_id</th>\n",
       "      <th>runs</th>\n",
       "    </tr>\n",
       "  </thead>\n",
       "  <tbody>\n",
       "    <tr>\n",
       "      <th>0</th>\n",
       "      <td>1</td>\n",
       "      <td>44.0</td>\n",
       "    </tr>\n",
       "    <tr>\n",
       "      <th>1</th>\n",
       "      <td>2</td>\n",
       "      <td>35.0</td>\n",
       "    </tr>\n",
       "    <tr>\n",
       "      <th>2</th>\n",
       "      <td>4</td>\n",
       "      <td>44.0</td>\n",
       "    </tr>\n",
       "  </tbody>\n",
       "</table>\n",
       "</div>"
      ],
      "text/plain": [
       "   player_id  runs\n",
       "0          1  44.0\n",
       "1          2  35.0\n",
       "2          4  44.0"
      ]
     },
     "execution_count": 25,
     "metadata": {},
     "output_type": "execute_result"
    }
   ],
   "source": [
    "grouped_runs = df2.groupby(['player_id'])['runs_scored'].mean()\n",
    "stat_res_runs = pd.DataFrame(grouped_runs)\n",
    "stat_res_runs.reset_index(inplace=True)\n",
    "stat_res_runs.runs_scored = stat_res_runs.runs_scored.round()\n",
    "stat_res_runs.rename(columns={'runs_scored':'runs'},inplace=True)\n",
    "stat_res_runs.head(3)"
   ]
  },
  {
   "cell_type": "code",
   "execution_count": 26,
   "id": "2f41b016",
   "metadata": {
    "scrolled": true
   },
   "outputs": [
    {
     "data": {
      "text/html": [
       "<div>\n",
       "<style scoped>\n",
       "    .dataframe tbody tr th:only-of-type {\n",
       "        vertical-align: middle;\n",
       "    }\n",
       "\n",
       "    .dataframe tbody tr th {\n",
       "        vertical-align: top;\n",
       "    }\n",
       "\n",
       "    .dataframe thead th {\n",
       "        text-align: right;\n",
       "    }\n",
       "</style>\n",
       "<table border=\"1\" class=\"dataframe\">\n",
       "  <thead>\n",
       "    <tr style=\"text-align: right;\">\n",
       "      <th></th>\n",
       "      <th>player_id</th>\n",
       "      <th>wickets</th>\n",
       "    </tr>\n",
       "  </thead>\n",
       "  <tbody>\n",
       "    <tr>\n",
       "      <th>0</th>\n",
       "      <td>1</td>\n",
       "      <td>0.0</td>\n",
       "    </tr>\n",
       "    <tr>\n",
       "      <th>1</th>\n",
       "      <td>2</td>\n",
       "      <td>1.0</td>\n",
       "    </tr>\n",
       "    <tr>\n",
       "      <th>2</th>\n",
       "      <td>4</td>\n",
       "      <td>0.0</td>\n",
       "    </tr>\n",
       "  </tbody>\n",
       "</table>\n",
       "</div>"
      ],
      "text/plain": [
       "   player_id  wickets\n",
       "0          1      0.0\n",
       "1          2      1.0\n",
       "2          4      0.0"
      ]
     },
     "execution_count": 26,
     "metadata": {},
     "output_type": "execute_result"
    }
   ],
   "source": [
    "grouped_wickets = df2.groupby(['player_id'])['wickets'].mean()\n",
    "stat_res_wickets = pd.DataFrame(grouped_wickets)\n",
    "stat_res_wickets.reset_index(inplace=True)\n",
    "stat_res_wickets.wickets = stat_res_wickets.wickets.round()\n",
    "stat_res_wickets.head(3)"
   ]
  },
  {
   "cell_type": "code",
   "execution_count": 27,
   "id": "36383428",
   "metadata": {},
   "outputs": [
    {
     "data": {
      "text/html": [
       "<div>\n",
       "<style scoped>\n",
       "    .dataframe tbody tr th:only-of-type {\n",
       "        vertical-align: middle;\n",
       "    }\n",
       "\n",
       "    .dataframe tbody tr th {\n",
       "        vertical-align: top;\n",
       "    }\n",
       "\n",
       "    .dataframe thead th {\n",
       "        text-align: right;\n",
       "    }\n",
       "</style>\n",
       "<table border=\"1\" class=\"dataframe\">\n",
       "  <thead>\n",
       "    <tr style=\"text-align: right;\">\n",
       "      <th></th>\n",
       "      <th>player_id</th>\n",
       "      <th>runs</th>\n",
       "      <th>wickets</th>\n",
       "    </tr>\n",
       "  </thead>\n",
       "  <tbody>\n",
       "    <tr>\n",
       "      <th>0</th>\n",
       "      <td>1</td>\n",
       "      <td>44.0</td>\n",
       "      <td>0.0</td>\n",
       "    </tr>\n",
       "    <tr>\n",
       "      <th>1</th>\n",
       "      <td>2</td>\n",
       "      <td>35.0</td>\n",
       "      <td>1.0</td>\n",
       "    </tr>\n",
       "    <tr>\n",
       "      <th>2</th>\n",
       "      <td>4</td>\n",
       "      <td>44.0</td>\n",
       "      <td>0.0</td>\n",
       "    </tr>\n",
       "  </tbody>\n",
       "</table>\n",
       "</div>"
      ],
      "text/plain": [
       "   player_id  runs  wickets\n",
       "0          1  44.0      0.0\n",
       "1          2  35.0      1.0\n",
       "2          4  44.0      0.0"
      ]
     },
     "execution_count": 27,
     "metadata": {},
     "output_type": "execute_result"
    }
   ],
   "source": [
    "stat_submission = pd.merge(stat_res_runs,stat_res_wickets,on='player_id')\n",
    "stat_submission.head(3)"
   ]
  },
  {
   "cell_type": "code",
   "execution_count": 28,
   "id": "d4d6925a",
   "metadata": {},
   "outputs": [],
   "source": [
    "not_in_squad = [3,8,12,15,18,21,26,27,28,29,30]\n",
    "not_in_squad_final = pd.DataFrame(data = not_in_squad)\n",
    "not_in_squad_final.rename(columns={0:'player_id'},inplace=True)\n",
    "not_in_squad_final['runs'] = 0\n",
    "not_in_squad_final['wickets'] = 0"
   ]
  },
  {
   "cell_type": "code",
   "execution_count": 29,
   "id": "4e1473ca",
   "metadata": {
    "scrolled": true
   },
   "outputs": [
    {
     "data": {
      "text/html": [
       "<div>\n",
       "<style scoped>\n",
       "    .dataframe tbody tr th:only-of-type {\n",
       "        vertical-align: middle;\n",
       "    }\n",
       "\n",
       "    .dataframe tbody tr th {\n",
       "        vertical-align: top;\n",
       "    }\n",
       "\n",
       "    .dataframe thead th {\n",
       "        text-align: right;\n",
       "    }\n",
       "</style>\n",
       "<table border=\"1\" class=\"dataframe\">\n",
       "  <thead>\n",
       "    <tr style=\"text-align: right;\">\n",
       "      <th></th>\n",
       "      <th>player_id</th>\n",
       "      <th>runs</th>\n",
       "      <th>wickets</th>\n",
       "    </tr>\n",
       "  </thead>\n",
       "  <tbody>\n",
       "    <tr>\n",
       "      <th>0</th>\n",
       "      <td>1</td>\n",
       "      <td>44.0</td>\n",
       "      <td>0.0</td>\n",
       "    </tr>\n",
       "    <tr>\n",
       "      <th>1</th>\n",
       "      <td>2</td>\n",
       "      <td>35.0</td>\n",
       "      <td>1.0</td>\n",
       "    </tr>\n",
       "    <tr>\n",
       "      <th>0</th>\n",
       "      <td>3</td>\n",
       "      <td>0.0</td>\n",
       "      <td>0.0</td>\n",
       "    </tr>\n",
       "    <tr>\n",
       "      <th>2</th>\n",
       "      <td>4</td>\n",
       "      <td>44.0</td>\n",
       "      <td>0.0</td>\n",
       "    </tr>\n",
       "    <tr>\n",
       "      <th>3</th>\n",
       "      <td>5</td>\n",
       "      <td>14.0</td>\n",
       "      <td>0.0</td>\n",
       "    </tr>\n",
       "    <tr>\n",
       "      <th>4</th>\n",
       "      <td>6</td>\n",
       "      <td>84.0</td>\n",
       "      <td>0.0</td>\n",
       "    </tr>\n",
       "    <tr>\n",
       "      <th>5</th>\n",
       "      <td>7</td>\n",
       "      <td>12.0</td>\n",
       "      <td>1.0</td>\n",
       "    </tr>\n",
       "    <tr>\n",
       "      <th>1</th>\n",
       "      <td>8</td>\n",
       "      <td>0.0</td>\n",
       "      <td>0.0</td>\n",
       "    </tr>\n",
       "    <tr>\n",
       "      <th>6</th>\n",
       "      <td>9</td>\n",
       "      <td>2.0</td>\n",
       "      <td>1.0</td>\n",
       "    </tr>\n",
       "    <tr>\n",
       "      <th>7</th>\n",
       "      <td>10</td>\n",
       "      <td>0.0</td>\n",
       "      <td>0.0</td>\n",
       "    </tr>\n",
       "    <tr>\n",
       "      <th>8</th>\n",
       "      <td>11</td>\n",
       "      <td>1.0</td>\n",
       "      <td>2.0</td>\n",
       "    </tr>\n",
       "    <tr>\n",
       "      <th>2</th>\n",
       "      <td>12</td>\n",
       "      <td>0.0</td>\n",
       "      <td>0.0</td>\n",
       "    </tr>\n",
       "    <tr>\n",
       "      <th>9</th>\n",
       "      <td>13</td>\n",
       "      <td>6.0</td>\n",
       "      <td>1.0</td>\n",
       "    </tr>\n",
       "    <tr>\n",
       "      <th>10</th>\n",
       "      <td>14</td>\n",
       "      <td>41.0</td>\n",
       "      <td>0.0</td>\n",
       "    </tr>\n",
       "    <tr>\n",
       "      <th>3</th>\n",
       "      <td>15</td>\n",
       "      <td>0.0</td>\n",
       "      <td>0.0</td>\n",
       "    </tr>\n",
       "    <tr>\n",
       "      <th>11</th>\n",
       "      <td>16</td>\n",
       "      <td>24.0</td>\n",
       "      <td>0.0</td>\n",
       "    </tr>\n",
       "    <tr>\n",
       "      <th>12</th>\n",
       "      <td>17</td>\n",
       "      <td>8.0</td>\n",
       "      <td>1.0</td>\n",
       "    </tr>\n",
       "    <tr>\n",
       "      <th>4</th>\n",
       "      <td>18</td>\n",
       "      <td>0.0</td>\n",
       "      <td>0.0</td>\n",
       "    </tr>\n",
       "    <tr>\n",
       "      <th>13</th>\n",
       "      <td>19</td>\n",
       "      <td>39.0</td>\n",
       "      <td>0.0</td>\n",
       "    </tr>\n",
       "    <tr>\n",
       "      <th>14</th>\n",
       "      <td>20</td>\n",
       "      <td>0.0</td>\n",
       "      <td>2.0</td>\n",
       "    </tr>\n",
       "    <tr>\n",
       "      <th>5</th>\n",
       "      <td>21</td>\n",
       "      <td>0.0</td>\n",
       "      <td>0.0</td>\n",
       "    </tr>\n",
       "    <tr>\n",
       "      <th>15</th>\n",
       "      <td>22</td>\n",
       "      <td>12.0</td>\n",
       "      <td>0.0</td>\n",
       "    </tr>\n",
       "    <tr>\n",
       "      <th>16</th>\n",
       "      <td>23</td>\n",
       "      <td>6.0</td>\n",
       "      <td>0.0</td>\n",
       "    </tr>\n",
       "    <tr>\n",
       "      <th>17</th>\n",
       "      <td>24</td>\n",
       "      <td>8.0</td>\n",
       "      <td>0.0</td>\n",
       "    </tr>\n",
       "    <tr>\n",
       "      <th>18</th>\n",
       "      <td>25</td>\n",
       "      <td>1.0</td>\n",
       "      <td>0.0</td>\n",
       "    </tr>\n",
       "    <tr>\n",
       "      <th>6</th>\n",
       "      <td>26</td>\n",
       "      <td>0.0</td>\n",
       "      <td>0.0</td>\n",
       "    </tr>\n",
       "    <tr>\n",
       "      <th>7</th>\n",
       "      <td>27</td>\n",
       "      <td>0.0</td>\n",
       "      <td>0.0</td>\n",
       "    </tr>\n",
       "    <tr>\n",
       "      <th>8</th>\n",
       "      <td>28</td>\n",
       "      <td>0.0</td>\n",
       "      <td>0.0</td>\n",
       "    </tr>\n",
       "    <tr>\n",
       "      <th>9</th>\n",
       "      <td>29</td>\n",
       "      <td>0.0</td>\n",
       "      <td>0.0</td>\n",
       "    </tr>\n",
       "    <tr>\n",
       "      <th>10</th>\n",
       "      <td>30</td>\n",
       "      <td>0.0</td>\n",
       "      <td>0.0</td>\n",
       "    </tr>\n",
       "  </tbody>\n",
       "</table>\n",
       "</div>"
      ],
      "text/plain": [
       "    player_id  runs  wickets\n",
       "0           1  44.0      0.0\n",
       "1           2  35.0      1.0\n",
       "0           3   0.0      0.0\n",
       "2           4  44.0      0.0\n",
       "3           5  14.0      0.0\n",
       "4           6  84.0      0.0\n",
       "5           7  12.0      1.0\n",
       "1           8   0.0      0.0\n",
       "6           9   2.0      1.0\n",
       "7          10   0.0      0.0\n",
       "8          11   1.0      2.0\n",
       "2          12   0.0      0.0\n",
       "9          13   6.0      1.0\n",
       "10         14  41.0      0.0\n",
       "3          15   0.0      0.0\n",
       "11         16  24.0      0.0\n",
       "12         17   8.0      1.0\n",
       "4          18   0.0      0.0\n",
       "13         19  39.0      0.0\n",
       "14         20   0.0      2.0\n",
       "5          21   0.0      0.0\n",
       "15         22  12.0      0.0\n",
       "16         23   6.0      0.0\n",
       "17         24   8.0      0.0\n",
       "18         25   1.0      0.0\n",
       "6          26   0.0      0.0\n",
       "7          27   0.0      0.0\n",
       "8          28   0.0      0.0\n",
       "9          29   0.0      0.0\n",
       "10         30   0.0      0.0"
      ]
     },
     "execution_count": 29,
     "metadata": {},
     "output_type": "execute_result"
    }
   ],
   "source": [
    "stat_submission_final = pd.concat([stat_submission,not_in_squad_final])\n",
    "stat_submission_final.sort_values(by='player_id',inplace=True)\n",
    "stat_submission_final"
   ]
  },
  {
   "cell_type": "code",
   "execution_count": 30,
   "id": "73edfea5",
   "metadata": {},
   "outputs": [],
   "source": [
    "stat_submission_final.to_csv('submission.csv',index=False)"
   ]
  },
  {
   "cell_type": "code",
   "execution_count": null,
   "id": "a3d70aad",
   "metadata": {},
   "outputs": [],
   "source": []
  }
 ],
 "metadata": {
  "kernelspec": {
   "display_name": "Python 3 (ipykernel)",
   "language": "python",
   "name": "python3"
  },
  "language_info": {
   "codemirror_mode": {
    "name": "ipython",
    "version": 3
   },
   "file_extension": ".py",
   "mimetype": "text/x-python",
   "name": "python",
   "nbconvert_exporter": "python",
   "pygments_lexer": "ipython3",
   "version": "3.9.13"
  }
 },
 "nbformat": 4,
 "nbformat_minor": 5
}
