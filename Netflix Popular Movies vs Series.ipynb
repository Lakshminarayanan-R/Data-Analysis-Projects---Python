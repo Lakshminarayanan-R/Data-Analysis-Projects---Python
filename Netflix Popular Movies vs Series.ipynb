{
 "cells": [
  {
   "cell_type": "markdown",
   "metadata": {},
   "source": [
    "# Netflix Popular Movies and Series\n",
    "\n",
    "**Analyze popular Netflix movies and series, to get some interesting insights**"
   ]
  },
  {
   "cell_type": "markdown",
   "metadata": {},
   "source": [
    "## Downloading the Dataset\n",
    "\n",
    "Download the dataset from kaggle platform using the opendatasets library"
   ]
  },
  {
   "cell_type": "code",
   "execution_count": 1,
   "metadata": {},
   "outputs": [
    {
     "name": "stdout",
     "output_type": "stream",
     "text": [
      "Please provide your Kaggle credentials to download this dataset. Learn more: http://bit.ly/kaggle-creds\n",
      "Your Kaggle username: rlakshminarayanan\n",
      "Your Kaggle Key: ········\n",
      "Downloading netflix-popular-movies-dataset.zip to ./netflix-popular-movies-dataset\n"
     ]
    },
    {
     "name": "stderr",
     "output_type": "stream",
     "text": [
      "100%|██████████| 1.17M/1.17M [00:00<00:00, 14.5MB/s]"
     ]
    },
    {
     "name": "stdout",
     "output_type": "stream",
     "text": [
      "\n"
     ]
    },
    {
     "name": "stderr",
     "output_type": "stream",
     "text": [
      "\n"
     ]
    }
   ],
   "source": [
    "!pip install jovian opendatasets --upgrade --quiet\n",
    "dataset_url = 'https://www.kaggle.com/datasets/narayan63/netflix-popular-movies-dataset'\n",
    "import opendatasets as od\n",
    "od.download(dataset_url)"
   ]
  },
  {
   "cell_type": "markdown",
   "metadata": {},
   "source": [
    "The dataset has been downloaded and extracted."
   ]
  },
  {
   "cell_type": "code",
   "execution_count": 2,
   "metadata": {},
   "outputs": [
    {
     "data": {
      "text/plain": [
       "'/home/jovyan'"
      ]
     },
     "execution_count": 2,
     "metadata": {},
     "output_type": "execute_result"
    }
   ],
   "source": [
    "import os\n",
    "os.getcwd()"
   ]
  },
  {
   "cell_type": "code",
   "execution_count": 3,
   "metadata": {},
   "outputs": [],
   "source": [
    "data_dir = './netflix-popular-movies-dataset'"
   ]
  },
  {
   "cell_type": "code",
   "execution_count": 4,
   "metadata": {},
   "outputs": [
    {
     "data": {
      "text/plain": [
       "['n_movies.csv']"
      ]
     },
     "execution_count": 4,
     "metadata": {},
     "output_type": "execute_result"
    }
   ],
   "source": [
    "import os\n",
    "os.listdir(data_dir)"
   ]
  },
  {
   "cell_type": "code",
   "execution_count": 5,
   "metadata": {},
   "outputs": [],
   "source": [
    "project_name = \"Netflix Popular Movies and Series\""
   ]
  },
  {
   "cell_type": "code",
   "execution_count": 6,
   "metadata": {},
   "outputs": [],
   "source": [
    "!pip install jovian --upgrade -q"
   ]
  },
  {
   "cell_type": "code",
   "execution_count": 7,
   "metadata": {},
   "outputs": [],
   "source": [
    "import jovian"
   ]
  },
  {
   "cell_type": "code",
   "execution_count": 8,
   "metadata": {},
   "outputs": [
    {
     "data": {
      "application/javascript": [
       "window.require && require([\"base/js/namespace\"],function(Jupyter){Jupyter.notebook.save_checkpoint()})"
      ],
      "text/plain": [
       "<IPython.core.display.Javascript object>"
      ]
     },
     "metadata": {},
     "output_type": "display_data"
    },
    {
     "name": "stdout",
     "output_type": "stream",
     "text": [
      "[jovian] Updating notebook \"lakshminarayanan-ravikumar/netflix-popular-movies-and-series\" on https://jovian.ai\u001b[0m\n",
      "[jovian] Committed successfully! https://jovian.ai/lakshminarayanan-ravikumar/netflix-popular-movies-and-series\u001b[0m\n"
     ]
    },
    {
     "data": {
      "text/plain": [
       "'https://jovian.ai/lakshminarayanan-ravikumar/netflix-popular-movies-and-series'"
      ]
     },
     "execution_count": 8,
     "metadata": {},
     "output_type": "execute_result"
    }
   ],
   "source": [
    "jovian.commit(project=project_name)"
   ]
  },
  {
   "cell_type": "markdown",
   "metadata": {},
   "source": [
    "## Data Preparation and Cleaning\n",
    "\n",
    "**TODO** - Load the csv file into a pandas Dataframe. Conduct a basic review of the data using some of the pandas function\n",
    "\n"
   ]
  },
  {
   "cell_type": "code",
   "execution_count": 9,
   "metadata": {},
   "outputs": [],
   "source": [
    "import pandas as pd\n",
    "netflix_df = pd.read_csv('./netflix-popular-movies-dataset/n_movies.csv')"
   ]
  },
  {
   "cell_type": "code",
   "execution_count": 10,
   "metadata": {},
   "outputs": [
    {
     "data": {
      "text/plain": [
       "(9957, 9)"
      ]
     },
     "execution_count": 10,
     "metadata": {},
     "output_type": "execute_result"
    }
   ],
   "source": [
    "netflix_df.shape"
   ]
  },
  {
   "cell_type": "code",
   "execution_count": 11,
   "metadata": {},
   "outputs": [
    {
     "data": {
      "text/html": [
       "<div>\n",
       "<style scoped>\n",
       "    .dataframe tbody tr th:only-of-type {\n",
       "        vertical-align: middle;\n",
       "    }\n",
       "\n",
       "    .dataframe tbody tr th {\n",
       "        vertical-align: top;\n",
       "    }\n",
       "\n",
       "    .dataframe thead th {\n",
       "        text-align: right;\n",
       "    }\n",
       "</style>\n",
       "<table border=\"1\" class=\"dataframe\">\n",
       "  <thead>\n",
       "    <tr style=\"text-align: right;\">\n",
       "      <th></th>\n",
       "      <th>title</th>\n",
       "      <th>year</th>\n",
       "      <th>certificate</th>\n",
       "      <th>duration</th>\n",
       "      <th>genre</th>\n",
       "      <th>rating</th>\n",
       "      <th>description</th>\n",
       "      <th>stars</th>\n",
       "      <th>votes</th>\n",
       "    </tr>\n",
       "  </thead>\n",
       "  <tbody>\n",
       "    <tr>\n",
       "      <th>0</th>\n",
       "      <td>Cobra Kai</td>\n",
       "      <td>(2018– )</td>\n",
       "      <td>TV-14</td>\n",
       "      <td>30 min</td>\n",
       "      <td>Action, Comedy, Drama</td>\n",
       "      <td>8.5</td>\n",
       "      <td>Decades after their 1984 All Valley Karate Tou...</td>\n",
       "      <td>['Ralph Macchio, ', 'William Zabka, ', 'Courtn...</td>\n",
       "      <td>177,031</td>\n",
       "    </tr>\n",
       "    <tr>\n",
       "      <th>1</th>\n",
       "      <td>The Crown</td>\n",
       "      <td>(2016– )</td>\n",
       "      <td>TV-MA</td>\n",
       "      <td>58 min</td>\n",
       "      <td>Biography, Drama, History</td>\n",
       "      <td>8.7</td>\n",
       "      <td>Follows the political rivalries and romance of...</td>\n",
       "      <td>['Claire Foy, ', 'Olivia Colman, ', 'Imelda St...</td>\n",
       "      <td>199,885</td>\n",
       "    </tr>\n",
       "    <tr>\n",
       "      <th>2</th>\n",
       "      <td>Better Call Saul</td>\n",
       "      <td>(2015–2022)</td>\n",
       "      <td>TV-MA</td>\n",
       "      <td>46 min</td>\n",
       "      <td>Crime, Drama</td>\n",
       "      <td>8.9</td>\n",
       "      <td>The trials and tribulations of criminal lawyer...</td>\n",
       "      <td>['Bob Odenkirk, ', 'Rhea Seehorn, ', 'Jonathan...</td>\n",
       "      <td>501,384</td>\n",
       "    </tr>\n",
       "    <tr>\n",
       "      <th>3</th>\n",
       "      <td>Devil in Ohio</td>\n",
       "      <td>(2022)</td>\n",
       "      <td>TV-MA</td>\n",
       "      <td>356 min</td>\n",
       "      <td>Drama, Horror, Mystery</td>\n",
       "      <td>5.9</td>\n",
       "      <td>When a psychiatrist shelters a mysterious cult...</td>\n",
       "      <td>['Emily Deschanel, ', 'Sam Jaeger, ', 'Gerardo...</td>\n",
       "      <td>9,773</td>\n",
       "    </tr>\n",
       "    <tr>\n",
       "      <th>4</th>\n",
       "      <td>Cyberpunk: Edgerunners</td>\n",
       "      <td>(2022– )</td>\n",
       "      <td>TV-MA</td>\n",
       "      <td>24 min</td>\n",
       "      <td>Animation, Action, Adventure</td>\n",
       "      <td>8.6</td>\n",
       "      <td>A Street Kid trying to survive in a technology...</td>\n",
       "      <td>['Zach Aguilar, ', 'Kenichiro Ohashi, ', 'Emi ...</td>\n",
       "      <td>15,413</td>\n",
       "    </tr>\n",
       "  </tbody>\n",
       "</table>\n",
       "</div>"
      ],
      "text/plain": [
       "                    title         year certificate duration  \\\n",
       "0               Cobra Kai     (2018– )       TV-14   30 min   \n",
       "1               The Crown     (2016– )       TV-MA   58 min   \n",
       "2        Better Call Saul  (2015–2022)       TV-MA   46 min   \n",
       "3           Devil in Ohio       (2022)       TV-MA  356 min   \n",
       "4  Cyberpunk: Edgerunners     (2022– )       TV-MA   24 min   \n",
       "\n",
       "                          genre  rating  \\\n",
       "0         Action, Comedy, Drama     8.5   \n",
       "1     Biography, Drama, History     8.7   \n",
       "2                  Crime, Drama     8.9   \n",
       "3        Drama, Horror, Mystery     5.9   \n",
       "4  Animation, Action, Adventure     8.6   \n",
       "\n",
       "                                         description  \\\n",
       "0  Decades after their 1984 All Valley Karate Tou...   \n",
       "1  Follows the political rivalries and romance of...   \n",
       "2  The trials and tribulations of criminal lawyer...   \n",
       "3  When a psychiatrist shelters a mysterious cult...   \n",
       "4  A Street Kid trying to survive in a technology...   \n",
       "\n",
       "                                               stars    votes  \n",
       "0  ['Ralph Macchio, ', 'William Zabka, ', 'Courtn...  177,031  \n",
       "1  ['Claire Foy, ', 'Olivia Colman, ', 'Imelda St...  199,885  \n",
       "2  ['Bob Odenkirk, ', 'Rhea Seehorn, ', 'Jonathan...  501,384  \n",
       "3  ['Emily Deschanel, ', 'Sam Jaeger, ', 'Gerardo...    9,773  \n",
       "4  ['Zach Aguilar, ', 'Kenichiro Ohashi, ', 'Emi ...   15,413  "
      ]
     },
     "execution_count": 11,
     "metadata": {},
     "output_type": "execute_result"
    }
   ],
   "source": [
    "netflix_df.head(5)"
   ]
  },
  {
   "cell_type": "code",
   "execution_count": 12,
   "metadata": {},
   "outputs": [
    {
     "name": "stdout",
     "output_type": "stream",
     "text": [
      "<class 'pandas.core.frame.DataFrame'>\n",
      "RangeIndex: 9957 entries, 0 to 9956\n",
      "Data columns (total 9 columns):\n",
      " #   Column       Non-Null Count  Dtype  \n",
      "---  ------       --------------  -----  \n",
      " 0   title        9957 non-null   object \n",
      " 1   year         9430 non-null   object \n",
      " 2   certificate  6504 non-null   object \n",
      " 3   duration     7921 non-null   object \n",
      " 4   genre        9884 non-null   object \n",
      " 5   rating       8784 non-null   float64\n",
      " 6   description  9957 non-null   object \n",
      " 7   stars        9957 non-null   object \n",
      " 8   votes        8784 non-null   object \n",
      "dtypes: float64(1), object(8)\n",
      "memory usage: 700.2+ KB\n"
     ]
    }
   ],
   "source": [
    "netflix_df.info()"
   ]
  },
  {
   "cell_type": "markdown",
   "metadata": {},
   "source": [
    "It is essential to convert votes into integer data type for analysis"
   ]
  },
  {
   "cell_type": "code",
   "execution_count": 13,
   "metadata": {},
   "outputs": [
    {
     "data": {
      "text/plain": [
       "1173"
      ]
     },
     "execution_count": 13,
     "metadata": {},
     "output_type": "execute_result"
    }
   ],
   "source": [
    "netflix_df['votes'].isna().sum()"
   ]
  },
  {
   "cell_type": "markdown",
   "metadata": {},
   "source": [
    "There are 1173 NAN values in the votes columns, we can replace it with 0 before converting it to integer"
   ]
  },
  {
   "cell_type": "code",
   "execution_count": 14,
   "metadata": {},
   "outputs": [
    {
     "data": {
      "text/plain": [
       "0"
      ]
     },
     "execution_count": 14,
     "metadata": {},
     "output_type": "execute_result"
    }
   ],
   "source": [
    "netflix_df['votes'] = netflix_df['votes'].fillna(0)\n",
    "netflix_df['votes'].isna().sum()"
   ]
  },
  {
   "cell_type": "code",
   "execution_count": 15,
   "metadata": {},
   "outputs": [],
   "source": [
    "netflix_df['votes'] = netflix_df['votes'].str.replace(',','').astype(float)"
   ]
  },
  {
   "cell_type": "code",
   "execution_count": 16,
   "metadata": {},
   "outputs": [
    {
     "data": {
      "text/html": [
       "<div>\n",
       "<style scoped>\n",
       "    .dataframe tbody tr th:only-of-type {\n",
       "        vertical-align: middle;\n",
       "    }\n",
       "\n",
       "    .dataframe tbody tr th {\n",
       "        vertical-align: top;\n",
       "    }\n",
       "\n",
       "    .dataframe thead th {\n",
       "        text-align: right;\n",
       "    }\n",
       "</style>\n",
       "<table border=\"1\" class=\"dataframe\">\n",
       "  <thead>\n",
       "    <tr style=\"text-align: right;\">\n",
       "      <th></th>\n",
       "      <th>rating</th>\n",
       "      <th>votes</th>\n",
       "    </tr>\n",
       "  </thead>\n",
       "  <tbody>\n",
       "    <tr>\n",
       "      <th>count</th>\n",
       "      <td>8784.000000</td>\n",
       "      <td>8.784000e+03</td>\n",
       "    </tr>\n",
       "    <tr>\n",
       "      <th>mean</th>\n",
       "      <td>6.764515</td>\n",
       "      <td>1.952319e+04</td>\n",
       "    </tr>\n",
       "    <tr>\n",
       "      <th>std</th>\n",
       "      <td>1.214840</td>\n",
       "      <td>8.757844e+04</td>\n",
       "    </tr>\n",
       "    <tr>\n",
       "      <th>min</th>\n",
       "      <td>1.700000</td>\n",
       "      <td>5.000000e+00</td>\n",
       "    </tr>\n",
       "    <tr>\n",
       "      <th>25%</th>\n",
       "      <td>6.100000</td>\n",
       "      <td>2.850000e+02</td>\n",
       "    </tr>\n",
       "    <tr>\n",
       "      <th>50%</th>\n",
       "      <td>6.900000</td>\n",
       "      <td>1.187000e+03</td>\n",
       "    </tr>\n",
       "    <tr>\n",
       "      <th>75%</th>\n",
       "      <td>7.600000</td>\n",
       "      <td>5.421750e+03</td>\n",
       "    </tr>\n",
       "    <tr>\n",
       "      <th>max</th>\n",
       "      <td>9.900000</td>\n",
       "      <td>1.844075e+06</td>\n",
       "    </tr>\n",
       "  </tbody>\n",
       "</table>\n",
       "</div>"
      ],
      "text/plain": [
       "            rating         votes\n",
       "count  8784.000000  8.784000e+03\n",
       "mean      6.764515  1.952319e+04\n",
       "std       1.214840  8.757844e+04\n",
       "min       1.700000  5.000000e+00\n",
       "25%       6.100000  2.850000e+02\n",
       "50%       6.900000  1.187000e+03\n",
       "75%       7.600000  5.421750e+03\n",
       "max       9.900000  1.844075e+06"
      ]
     },
     "execution_count": 16,
     "metadata": {},
     "output_type": "execute_result"
    }
   ],
   "source": [
    "netflix_df.describe()"
   ]
  },
  {
   "cell_type": "code",
   "execution_count": 17,
   "metadata": {},
   "outputs": [
    {
     "data": {
      "text/plain": [
       "Index(['title', 'year', 'certificate', 'duration', 'genre', 'rating',\n",
       "       'description', 'stars', 'votes'],\n",
       "      dtype='object')"
      ]
     },
     "execution_count": 17,
     "metadata": {},
     "output_type": "execute_result"
    }
   ],
   "source": [
    "netflix_df.columns"
   ]
  },
  {
   "cell_type": "markdown",
   "metadata": {},
   "source": [
    "## Movie or Series - Categorization\n",
    "The shows have both movies and series. It would be interesting to categorize the shows as series or movies"
   ]
  },
  {
   "cell_type": "markdown",
   "metadata": {},
   "source": [
    "### Shortest movie on Netflix is World of Tomorrow"
   ]
  },
  {
   "cell_type": "markdown",
   "metadata": {},
   "source": [
    "The duration of the shortest movie in Netflix is 1h 14 m (74 min), So shows that have a duration below 74 minutes can be categorized into series"
   ]
  },
  {
   "cell_type": "code",
   "execution_count": 18,
   "metadata": {},
   "outputs": [
    {
     "data": {
      "text/html": [
       "<div>\n",
       "<style scoped>\n",
       "    .dataframe tbody tr th:only-of-type {\n",
       "        vertical-align: middle;\n",
       "    }\n",
       "\n",
       "    .dataframe tbody tr th {\n",
       "        vertical-align: top;\n",
       "    }\n",
       "\n",
       "    .dataframe thead th {\n",
       "        text-align: right;\n",
       "    }\n",
       "</style>\n",
       "<table border=\"1\" class=\"dataframe\">\n",
       "  <thead>\n",
       "    <tr style=\"text-align: right;\">\n",
       "      <th></th>\n",
       "      <th>title</th>\n",
       "      <th>year</th>\n",
       "      <th>certificate</th>\n",
       "      <th>duration</th>\n",
       "      <th>genre</th>\n",
       "      <th>rating</th>\n",
       "      <th>description</th>\n",
       "      <th>stars</th>\n",
       "      <th>votes</th>\n",
       "      <th>Duration</th>\n",
       "      <th>Units</th>\n",
       "    </tr>\n",
       "  </thead>\n",
       "  <tbody>\n",
       "    <tr>\n",
       "      <th>0</th>\n",
       "      <td>Cobra Kai</td>\n",
       "      <td>(2018– )</td>\n",
       "      <td>TV-14</td>\n",
       "      <td>30 min</td>\n",
       "      <td>Action, Comedy, Drama</td>\n",
       "      <td>8.5</td>\n",
       "      <td>Decades after their 1984 All Valley Karate Tou...</td>\n",
       "      <td>['Ralph Macchio, ', 'William Zabka, ', 'Courtn...</td>\n",
       "      <td>177031.0</td>\n",
       "      <td>30</td>\n",
       "      <td>min</td>\n",
       "    </tr>\n",
       "    <tr>\n",
       "      <th>1</th>\n",
       "      <td>The Crown</td>\n",
       "      <td>(2016– )</td>\n",
       "      <td>TV-MA</td>\n",
       "      <td>58 min</td>\n",
       "      <td>Biography, Drama, History</td>\n",
       "      <td>8.7</td>\n",
       "      <td>Follows the political rivalries and romance of...</td>\n",
       "      <td>['Claire Foy, ', 'Olivia Colman, ', 'Imelda St...</td>\n",
       "      <td>199885.0</td>\n",
       "      <td>58</td>\n",
       "      <td>min</td>\n",
       "    </tr>\n",
       "    <tr>\n",
       "      <th>2</th>\n",
       "      <td>Better Call Saul</td>\n",
       "      <td>(2015–2022)</td>\n",
       "      <td>TV-MA</td>\n",
       "      <td>46 min</td>\n",
       "      <td>Crime, Drama</td>\n",
       "      <td>8.9</td>\n",
       "      <td>The trials and tribulations of criminal lawyer...</td>\n",
       "      <td>['Bob Odenkirk, ', 'Rhea Seehorn, ', 'Jonathan...</td>\n",
       "      <td>501384.0</td>\n",
       "      <td>46</td>\n",
       "      <td>min</td>\n",
       "    </tr>\n",
       "    <tr>\n",
       "      <th>3</th>\n",
       "      <td>Devil in Ohio</td>\n",
       "      <td>(2022)</td>\n",
       "      <td>TV-MA</td>\n",
       "      <td>356 min</td>\n",
       "      <td>Drama, Horror, Mystery</td>\n",
       "      <td>5.9</td>\n",
       "      <td>When a psychiatrist shelters a mysterious cult...</td>\n",
       "      <td>['Emily Deschanel, ', 'Sam Jaeger, ', 'Gerardo...</td>\n",
       "      <td>9773.0</td>\n",
       "      <td>356</td>\n",
       "      <td>min</td>\n",
       "    </tr>\n",
       "    <tr>\n",
       "      <th>4</th>\n",
       "      <td>Cyberpunk: Edgerunners</td>\n",
       "      <td>(2022– )</td>\n",
       "      <td>TV-MA</td>\n",
       "      <td>24 min</td>\n",
       "      <td>Animation, Action, Adventure</td>\n",
       "      <td>8.6</td>\n",
       "      <td>A Street Kid trying to survive in a technology...</td>\n",
       "      <td>['Zach Aguilar, ', 'Kenichiro Ohashi, ', 'Emi ...</td>\n",
       "      <td>15413.0</td>\n",
       "      <td>24</td>\n",
       "      <td>min</td>\n",
       "    </tr>\n",
       "  </tbody>\n",
       "</table>\n",
       "</div>"
      ],
      "text/plain": [
       "                    title         year certificate duration  \\\n",
       "0               Cobra Kai     (2018– )       TV-14   30 min   \n",
       "1               The Crown     (2016– )       TV-MA   58 min   \n",
       "2        Better Call Saul  (2015–2022)       TV-MA   46 min   \n",
       "3           Devil in Ohio       (2022)       TV-MA  356 min   \n",
       "4  Cyberpunk: Edgerunners     (2022– )       TV-MA   24 min   \n",
       "\n",
       "                          genre  rating  \\\n",
       "0         Action, Comedy, Drama     8.5   \n",
       "1     Biography, Drama, History     8.7   \n",
       "2                  Crime, Drama     8.9   \n",
       "3        Drama, Horror, Mystery     5.9   \n",
       "4  Animation, Action, Adventure     8.6   \n",
       "\n",
       "                                         description  \\\n",
       "0  Decades after their 1984 All Valley Karate Tou...   \n",
       "1  Follows the political rivalries and romance of...   \n",
       "2  The trials and tribulations of criminal lawyer...   \n",
       "3  When a psychiatrist shelters a mysterious cult...   \n",
       "4  A Street Kid trying to survive in a technology...   \n",
       "\n",
       "                                               stars     votes Duration Units  \n",
       "0  ['Ralph Macchio, ', 'William Zabka, ', 'Courtn...  177031.0       30   min  \n",
       "1  ['Claire Foy, ', 'Olivia Colman, ', 'Imelda St...  199885.0       58   min  \n",
       "2  ['Bob Odenkirk, ', 'Rhea Seehorn, ', 'Jonathan...  501384.0       46   min  \n",
       "3  ['Emily Deschanel, ', 'Sam Jaeger, ', 'Gerardo...    9773.0      356   min  \n",
       "4  ['Zach Aguilar, ', 'Kenichiro Ohashi, ', 'Emi ...   15413.0       24   min  "
      ]
     },
     "execution_count": 18,
     "metadata": {},
     "output_type": "execute_result"
    }
   ],
   "source": [
    "netflix_df[['Duration','Units']] = netflix_df['duration'].str.split(expand = True)\n",
    "netflix_df.head(5)"
   ]
  },
  {
   "cell_type": "markdown",
   "metadata": {},
   "source": [
    "Here Devil in Ohio is a web series but as per our condition it is categorized as series, so we have to apply one more condition to fit this criteria. i.e., Finding the longest movie in Netflix"
   ]
  },
  {
   "cell_type": "markdown",
   "metadata": {},
   "source": [
    "### Longest movie on Netflix is The Irish Man"
   ]
  },
  {
   "cell_type": "markdown",
   "metadata": {},
   "source": [
    "The duration of the longest movie in Netflix is 3h 29 m (209 min), So shows that have a duration above 209 minutes can be categorized into series"
   ]
  },
  {
   "cell_type": "code",
   "execution_count": 19,
   "metadata": {},
   "outputs": [
    {
     "name": "stdout",
     "output_type": "stream",
     "text": [
      "<class 'pandas.core.frame.DataFrame'>\n",
      "RangeIndex: 9957 entries, 0 to 9956\n",
      "Data columns (total 11 columns):\n",
      " #   Column       Non-Null Count  Dtype  \n",
      "---  ------       --------------  -----  \n",
      " 0   title        9957 non-null   object \n",
      " 1   year         9430 non-null   object \n",
      " 2   certificate  6504 non-null   object \n",
      " 3   duration     7921 non-null   object \n",
      " 4   genre        9884 non-null   object \n",
      " 5   rating       8784 non-null   float64\n",
      " 6   description  9957 non-null   object \n",
      " 7   stars        9957 non-null   object \n",
      " 8   votes        8784 non-null   float64\n",
      " 9   Duration     7921 non-null   object \n",
      " 10  Units        7921 non-null   object \n",
      "dtypes: float64(2), object(9)\n",
      "memory usage: 855.8+ KB\n"
     ]
    }
   ],
   "source": [
    "netflix_df.info()"
   ]
  },
  {
   "cell_type": "code",
   "execution_count": 20,
   "metadata": {},
   "outputs": [
    {
     "data": {
      "text/html": [
       "<div>\n",
       "<style scoped>\n",
       "    .dataframe tbody tr th:only-of-type {\n",
       "        vertical-align: middle;\n",
       "    }\n",
       "\n",
       "    .dataframe tbody tr th {\n",
       "        vertical-align: top;\n",
       "    }\n",
       "\n",
       "    .dataframe thead th {\n",
       "        text-align: right;\n",
       "    }\n",
       "</style>\n",
       "<table border=\"1\" class=\"dataframe\">\n",
       "  <thead>\n",
       "    <tr style=\"text-align: right;\">\n",
       "      <th></th>\n",
       "      <th>rating</th>\n",
       "      <th>votes</th>\n",
       "    </tr>\n",
       "  </thead>\n",
       "  <tbody>\n",
       "    <tr>\n",
       "      <th>count</th>\n",
       "      <td>8784.000000</td>\n",
       "      <td>8.784000e+03</td>\n",
       "    </tr>\n",
       "    <tr>\n",
       "      <th>mean</th>\n",
       "      <td>6.764515</td>\n",
       "      <td>1.952319e+04</td>\n",
       "    </tr>\n",
       "    <tr>\n",
       "      <th>std</th>\n",
       "      <td>1.214840</td>\n",
       "      <td>8.757844e+04</td>\n",
       "    </tr>\n",
       "    <tr>\n",
       "      <th>min</th>\n",
       "      <td>1.700000</td>\n",
       "      <td>5.000000e+00</td>\n",
       "    </tr>\n",
       "    <tr>\n",
       "      <th>25%</th>\n",
       "      <td>6.100000</td>\n",
       "      <td>2.850000e+02</td>\n",
       "    </tr>\n",
       "    <tr>\n",
       "      <th>50%</th>\n",
       "      <td>6.900000</td>\n",
       "      <td>1.187000e+03</td>\n",
       "    </tr>\n",
       "    <tr>\n",
       "      <th>75%</th>\n",
       "      <td>7.600000</td>\n",
       "      <td>5.421750e+03</td>\n",
       "    </tr>\n",
       "    <tr>\n",
       "      <th>max</th>\n",
       "      <td>9.900000</td>\n",
       "      <td>1.844075e+06</td>\n",
       "    </tr>\n",
       "  </tbody>\n",
       "</table>\n",
       "</div>"
      ],
      "text/plain": [
       "            rating         votes\n",
       "count  8784.000000  8.784000e+03\n",
       "mean      6.764515  1.952319e+04\n",
       "std       1.214840  8.757844e+04\n",
       "min       1.700000  5.000000e+00\n",
       "25%       6.100000  2.850000e+02\n",
       "50%       6.900000  1.187000e+03\n",
       "75%       7.600000  5.421750e+03\n",
       "max       9.900000  1.844075e+06"
      ]
     },
     "execution_count": 20,
     "metadata": {},
     "output_type": "execute_result"
    }
   ],
   "source": [
    "netflix_df.describe()"
   ]
  },
  {
   "cell_type": "markdown",
   "metadata": {},
   "source": [
    "### Converting the Duration column into float to evaluate it for categorization"
   ]
  },
  {
   "cell_type": "code",
   "execution_count": 21,
   "metadata": {},
   "outputs": [
    {
     "data": {
      "text/plain": [
       "2036"
      ]
     },
     "execution_count": 21,
     "metadata": {},
     "output_type": "execute_result"
    }
   ],
   "source": [
    "netflix_df['Duration'].isna().sum()"
   ]
  },
  {
   "cell_type": "code",
   "execution_count": 22,
   "metadata": {},
   "outputs": [],
   "source": [
    "netflix_df['Duration'] = netflix_df['Duration'].fillna(0)"
   ]
  },
  {
   "cell_type": "code",
   "execution_count": 23,
   "metadata": {},
   "outputs": [
    {
     "data": {
      "text/plain": [
       "dtype('int64')"
      ]
     },
     "execution_count": 23,
     "metadata": {},
     "output_type": "execute_result"
    }
   ],
   "source": [
    "netflix_df['Duration'] = netflix_df['Duration'].astype(int)\n",
    "netflix_df['Duration'].dtypes"
   ]
  },
  {
   "cell_type": "code",
   "execution_count": 24,
   "metadata": {},
   "outputs": [
    {
     "data": {
      "text/html": [
       "<div>\n",
       "<style scoped>\n",
       "    .dataframe tbody tr th:only-of-type {\n",
       "        vertical-align: middle;\n",
       "    }\n",
       "\n",
       "    .dataframe tbody tr th {\n",
       "        vertical-align: top;\n",
       "    }\n",
       "\n",
       "    .dataframe thead th {\n",
       "        text-align: right;\n",
       "    }\n",
       "</style>\n",
       "<table border=\"1\" class=\"dataframe\">\n",
       "  <thead>\n",
       "    <tr style=\"text-align: right;\">\n",
       "      <th></th>\n",
       "      <th>title</th>\n",
       "      <th>year</th>\n",
       "      <th>certificate</th>\n",
       "      <th>duration</th>\n",
       "      <th>genre</th>\n",
       "      <th>rating</th>\n",
       "      <th>description</th>\n",
       "      <th>stars</th>\n",
       "      <th>votes</th>\n",
       "      <th>Duration</th>\n",
       "      <th>Units</th>\n",
       "      <th>Category</th>\n",
       "    </tr>\n",
       "  </thead>\n",
       "  <tbody>\n",
       "    <tr>\n",
       "      <th>0</th>\n",
       "      <td>Cobra Kai</td>\n",
       "      <td>(2018– )</td>\n",
       "      <td>TV-14</td>\n",
       "      <td>30 min</td>\n",
       "      <td>Action, Comedy, Drama</td>\n",
       "      <td>8.5</td>\n",
       "      <td>Decades after their 1984 All Valley Karate Tou...</td>\n",
       "      <td>['Ralph Macchio, ', 'William Zabka, ', 'Courtn...</td>\n",
       "      <td>177031.0</td>\n",
       "      <td>30</td>\n",
       "      <td>min</td>\n",
       "      <td>series</td>\n",
       "    </tr>\n",
       "    <tr>\n",
       "      <th>1</th>\n",
       "      <td>The Crown</td>\n",
       "      <td>(2016– )</td>\n",
       "      <td>TV-MA</td>\n",
       "      <td>58 min</td>\n",
       "      <td>Biography, Drama, History</td>\n",
       "      <td>8.7</td>\n",
       "      <td>Follows the political rivalries and romance of...</td>\n",
       "      <td>['Claire Foy, ', 'Olivia Colman, ', 'Imelda St...</td>\n",
       "      <td>199885.0</td>\n",
       "      <td>58</td>\n",
       "      <td>min</td>\n",
       "      <td>series</td>\n",
       "    </tr>\n",
       "    <tr>\n",
       "      <th>2</th>\n",
       "      <td>Better Call Saul</td>\n",
       "      <td>(2015–2022)</td>\n",
       "      <td>TV-MA</td>\n",
       "      <td>46 min</td>\n",
       "      <td>Crime, Drama</td>\n",
       "      <td>8.9</td>\n",
       "      <td>The trials and tribulations of criminal lawyer...</td>\n",
       "      <td>['Bob Odenkirk, ', 'Rhea Seehorn, ', 'Jonathan...</td>\n",
       "      <td>501384.0</td>\n",
       "      <td>46</td>\n",
       "      <td>min</td>\n",
       "      <td>series</td>\n",
       "    </tr>\n",
       "    <tr>\n",
       "      <th>3</th>\n",
       "      <td>Devil in Ohio</td>\n",
       "      <td>(2022)</td>\n",
       "      <td>TV-MA</td>\n",
       "      <td>356 min</td>\n",
       "      <td>Drama, Horror, Mystery</td>\n",
       "      <td>5.9</td>\n",
       "      <td>When a psychiatrist shelters a mysterious cult...</td>\n",
       "      <td>['Emily Deschanel, ', 'Sam Jaeger, ', 'Gerardo...</td>\n",
       "      <td>9773.0</td>\n",
       "      <td>356</td>\n",
       "      <td>min</td>\n",
       "      <td>series</td>\n",
       "    </tr>\n",
       "    <tr>\n",
       "      <th>4</th>\n",
       "      <td>Cyberpunk: Edgerunners</td>\n",
       "      <td>(2022– )</td>\n",
       "      <td>TV-MA</td>\n",
       "      <td>24 min</td>\n",
       "      <td>Animation, Action, Adventure</td>\n",
       "      <td>8.6</td>\n",
       "      <td>A Street Kid trying to survive in a technology...</td>\n",
       "      <td>['Zach Aguilar, ', 'Kenichiro Ohashi, ', 'Emi ...</td>\n",
       "      <td>15413.0</td>\n",
       "      <td>24</td>\n",
       "      <td>min</td>\n",
       "      <td>series</td>\n",
       "    </tr>\n",
       "  </tbody>\n",
       "</table>\n",
       "</div>"
      ],
      "text/plain": [
       "                    title         year certificate duration  \\\n",
       "0               Cobra Kai     (2018– )       TV-14   30 min   \n",
       "1               The Crown     (2016– )       TV-MA   58 min   \n",
       "2        Better Call Saul  (2015–2022)       TV-MA   46 min   \n",
       "3           Devil in Ohio       (2022)       TV-MA  356 min   \n",
       "4  Cyberpunk: Edgerunners     (2022– )       TV-MA   24 min   \n",
       "\n",
       "                          genre  rating  \\\n",
       "0         Action, Comedy, Drama     8.5   \n",
       "1     Biography, Drama, History     8.7   \n",
       "2                  Crime, Drama     8.9   \n",
       "3        Drama, Horror, Mystery     5.9   \n",
       "4  Animation, Action, Adventure     8.6   \n",
       "\n",
       "                                         description  \\\n",
       "0  Decades after their 1984 All Valley Karate Tou...   \n",
       "1  Follows the political rivalries and romance of...   \n",
       "2  The trials and tribulations of criminal lawyer...   \n",
       "3  When a psychiatrist shelters a mysterious cult...   \n",
       "4  A Street Kid trying to survive in a technology...   \n",
       "\n",
       "                                               stars     votes  Duration  \\\n",
       "0  ['Ralph Macchio, ', 'William Zabka, ', 'Courtn...  177031.0        30   \n",
       "1  ['Claire Foy, ', 'Olivia Colman, ', 'Imelda St...  199885.0        58   \n",
       "2  ['Bob Odenkirk, ', 'Rhea Seehorn, ', 'Jonathan...  501384.0        46   \n",
       "3  ['Emily Deschanel, ', 'Sam Jaeger, ', 'Gerardo...    9773.0       356   \n",
       "4  ['Zach Aguilar, ', 'Kenichiro Ohashi, ', 'Emi ...   15413.0        24   \n",
       "\n",
       "  Units Category  \n",
       "0   min   series  \n",
       "1   min   series  \n",
       "2   min   series  \n",
       "3   min   series  \n",
       "4   min   series  "
      ]
     },
     "execution_count": 24,
     "metadata": {},
     "output_type": "execute_result"
    }
   ],
   "source": [
    "def category(x):\n",
    "    if x > 74 and x < 209:\n",
    "        return 'movie'\n",
    "    else:\n",
    "        return 'series'\n",
    "netflix_df['Category'] = netflix_df['Duration'].apply(category)\n",
    "netflix_df.head(5)"
   ]
  },
  {
   "cell_type": "code",
   "execution_count": 25,
   "metadata": {},
   "outputs": [
    {
     "data": {
      "text/html": [
       "<div>\n",
       "<style scoped>\n",
       "    .dataframe tbody tr th:only-of-type {\n",
       "        vertical-align: middle;\n",
       "    }\n",
       "\n",
       "    .dataframe tbody tr th {\n",
       "        vertical-align: top;\n",
       "    }\n",
       "\n",
       "    .dataframe thead th {\n",
       "        text-align: right;\n",
       "    }\n",
       "</style>\n",
       "<table border=\"1\" class=\"dataframe\">\n",
       "  <thead>\n",
       "    <tr style=\"text-align: right;\">\n",
       "      <th></th>\n",
       "      <th>title</th>\n",
       "      <th>year</th>\n",
       "      <th>certificate</th>\n",
       "      <th>duration</th>\n",
       "      <th>genre</th>\n",
       "      <th>rating</th>\n",
       "      <th>description</th>\n",
       "      <th>stars</th>\n",
       "      <th>votes</th>\n",
       "      <th>Duration</th>\n",
       "      <th>Units</th>\n",
       "      <th>Category</th>\n",
       "    </tr>\n",
       "  </thead>\n",
       "  <tbody>\n",
       "    <tr>\n",
       "      <th>9</th>\n",
       "      <td>Blonde</td>\n",
       "      <td>(2022)</td>\n",
       "      <td>NC-17</td>\n",
       "      <td>166 min</td>\n",
       "      <td>Biography, Drama, Mystery</td>\n",
       "      <td>6.2</td>\n",
       "      <td>A fictionalized chronicle of the inner life of...</td>\n",
       "      <td>['Andrew Dominik', '| ', '    Stars:', 'Ana de...</td>\n",
       "      <td>935.0</td>\n",
       "      <td>166</td>\n",
       "      <td>min</td>\n",
       "      <td>movie</td>\n",
       "    </tr>\n",
       "    <tr>\n",
       "      <th>11</th>\n",
       "      <td>End of the Road</td>\n",
       "      <td>(II) (2022)</td>\n",
       "      <td>R</td>\n",
       "      <td>89 min</td>\n",
       "      <td>Action, Crime, Drama</td>\n",
       "      <td>4.7</td>\n",
       "      <td>In this high-octane action thriller, a cross-c...</td>\n",
       "      <td>['Millicent Shelton', '| ', '    Stars:', 'Que...</td>\n",
       "      <td>5122.0</td>\n",
       "      <td>89</td>\n",
       "      <td>min</td>\n",
       "      <td>movie</td>\n",
       "    </tr>\n",
       "    <tr>\n",
       "      <th>13</th>\n",
       "      <td>Glass Onion: A Knives Out Mystery</td>\n",
       "      <td>(2022)</td>\n",
       "      <td>PG-13</td>\n",
       "      <td>139 min</td>\n",
       "      <td>Crime, Drama, Mystery</td>\n",
       "      <td>8.1</td>\n",
       "      <td>Famed Southern detective Benoit Blanc travels ...</td>\n",
       "      <td>['Rian Johnson', '| ', '    Stars:', 'Daniel C...</td>\n",
       "      <td>547.0</td>\n",
       "      <td>139</td>\n",
       "      <td>min</td>\n",
       "      <td>movie</td>\n",
       "    </tr>\n",
       "    <tr>\n",
       "      <th>14</th>\n",
       "      <td>Do Revenge</td>\n",
       "      <td>(2022)</td>\n",
       "      <td>TV-MA</td>\n",
       "      <td>118 min</td>\n",
       "      <td>Comedy</td>\n",
       "      <td>6.4</td>\n",
       "      <td>Drea and Eleanor agree to go after one another...</td>\n",
       "      <td>['Jennifer Kaytin Robinson', '| ', '    Stars:...</td>\n",
       "      <td>13457.0</td>\n",
       "      <td>118</td>\n",
       "      <td>min</td>\n",
       "      <td>movie</td>\n",
       "    </tr>\n",
       "    <tr>\n",
       "      <th>15</th>\n",
       "      <td>I Came By</td>\n",
       "      <td>(2022)</td>\n",
       "      <td>TV-MA</td>\n",
       "      <td>110 min</td>\n",
       "      <td>Thriller</td>\n",
       "      <td>6.1</td>\n",
       "      <td>Follows a young graffiti artist who discovers ...</td>\n",
       "      <td>['Babak Anvari', '| ', '    Stars:', 'Antonio ...</td>\n",
       "      <td>16230.0</td>\n",
       "      <td>110</td>\n",
       "      <td>min</td>\n",
       "      <td>movie</td>\n",
       "    </tr>\n",
       "  </tbody>\n",
       "</table>\n",
       "</div>"
      ],
      "text/plain": [
       "                                title         year certificate duration  \\\n",
       "9                              Blonde       (2022)       NC-17  166 min   \n",
       "11                    End of the Road  (II) (2022)           R   89 min   \n",
       "13  Glass Onion: A Knives Out Mystery       (2022)       PG-13  139 min   \n",
       "14                         Do Revenge       (2022)       TV-MA  118 min   \n",
       "15                          I Came By       (2022)       TV-MA  110 min   \n",
       "\n",
       "                        genre  rating  \\\n",
       "9   Biography, Drama, Mystery     6.2   \n",
       "11       Action, Crime, Drama     4.7   \n",
       "13      Crime, Drama, Mystery     8.1   \n",
       "14                     Comedy     6.4   \n",
       "15                   Thriller     6.1   \n",
       "\n",
       "                                          description  \\\n",
       "9   A fictionalized chronicle of the inner life of...   \n",
       "11  In this high-octane action thriller, a cross-c...   \n",
       "13  Famed Southern detective Benoit Blanc travels ...   \n",
       "14  Drea and Eleanor agree to go after one another...   \n",
       "15  Follows a young graffiti artist who discovers ...   \n",
       "\n",
       "                                                stars    votes  Duration  \\\n",
       "9   ['Andrew Dominik', '| ', '    Stars:', 'Ana de...    935.0       166   \n",
       "11  ['Millicent Shelton', '| ', '    Stars:', 'Que...   5122.0        89   \n",
       "13  ['Rian Johnson', '| ', '    Stars:', 'Daniel C...    547.0       139   \n",
       "14  ['Jennifer Kaytin Robinson', '| ', '    Stars:...  13457.0       118   \n",
       "15  ['Babak Anvari', '| ', '    Stars:', 'Antonio ...  16230.0       110   \n",
       "\n",
       "   Units Category  \n",
       "9    min    movie  \n",
       "11   min    movie  \n",
       "13   min    movie  \n",
       "14   min    movie  \n",
       "15   min    movie  "
      ]
     },
     "execution_count": 25,
     "metadata": {},
     "output_type": "execute_result"
    }
   ],
   "source": [
    "netflix_movie_df = netflix_df[netflix_df['Category'] == 'movie']\n",
    "netflix_movie_df.head()"
   ]
  },
  {
   "cell_type": "code",
   "execution_count": 26,
   "metadata": {},
   "outputs": [
    {
     "data": {
      "text/html": [
       "<div>\n",
       "<style scoped>\n",
       "    .dataframe tbody tr th:only-of-type {\n",
       "        vertical-align: middle;\n",
       "    }\n",
       "\n",
       "    .dataframe tbody tr th {\n",
       "        vertical-align: top;\n",
       "    }\n",
       "\n",
       "    .dataframe thead th {\n",
       "        text-align: right;\n",
       "    }\n",
       "</style>\n",
       "<table border=\"1\" class=\"dataframe\">\n",
       "  <thead>\n",
       "    <tr style=\"text-align: right;\">\n",
       "      <th></th>\n",
       "      <th>title</th>\n",
       "      <th>year</th>\n",
       "      <th>certificate</th>\n",
       "      <th>duration</th>\n",
       "      <th>genre</th>\n",
       "      <th>rating</th>\n",
       "      <th>description</th>\n",
       "      <th>stars</th>\n",
       "      <th>votes</th>\n",
       "      <th>Duration</th>\n",
       "      <th>Units</th>\n",
       "      <th>Category</th>\n",
       "    </tr>\n",
       "  </thead>\n",
       "  <tbody>\n",
       "    <tr>\n",
       "      <th>0</th>\n",
       "      <td>Cobra Kai</td>\n",
       "      <td>(2018– )</td>\n",
       "      <td>TV-14</td>\n",
       "      <td>30 min</td>\n",
       "      <td>Action, Comedy, Drama</td>\n",
       "      <td>8.5</td>\n",
       "      <td>Decades after their 1984 All Valley Karate Tou...</td>\n",
       "      <td>['Ralph Macchio, ', 'William Zabka, ', 'Courtn...</td>\n",
       "      <td>177031.0</td>\n",
       "      <td>30</td>\n",
       "      <td>min</td>\n",
       "      <td>series</td>\n",
       "    </tr>\n",
       "    <tr>\n",
       "      <th>1</th>\n",
       "      <td>The Crown</td>\n",
       "      <td>(2016– )</td>\n",
       "      <td>TV-MA</td>\n",
       "      <td>58 min</td>\n",
       "      <td>Biography, Drama, History</td>\n",
       "      <td>8.7</td>\n",
       "      <td>Follows the political rivalries and romance of...</td>\n",
       "      <td>['Claire Foy, ', 'Olivia Colman, ', 'Imelda St...</td>\n",
       "      <td>199885.0</td>\n",
       "      <td>58</td>\n",
       "      <td>min</td>\n",
       "      <td>series</td>\n",
       "    </tr>\n",
       "    <tr>\n",
       "      <th>2</th>\n",
       "      <td>Better Call Saul</td>\n",
       "      <td>(2015–2022)</td>\n",
       "      <td>TV-MA</td>\n",
       "      <td>46 min</td>\n",
       "      <td>Crime, Drama</td>\n",
       "      <td>8.9</td>\n",
       "      <td>The trials and tribulations of criminal lawyer...</td>\n",
       "      <td>['Bob Odenkirk, ', 'Rhea Seehorn, ', 'Jonathan...</td>\n",
       "      <td>501384.0</td>\n",
       "      <td>46</td>\n",
       "      <td>min</td>\n",
       "      <td>series</td>\n",
       "    </tr>\n",
       "    <tr>\n",
       "      <th>3</th>\n",
       "      <td>Devil in Ohio</td>\n",
       "      <td>(2022)</td>\n",
       "      <td>TV-MA</td>\n",
       "      <td>356 min</td>\n",
       "      <td>Drama, Horror, Mystery</td>\n",
       "      <td>5.9</td>\n",
       "      <td>When a psychiatrist shelters a mysterious cult...</td>\n",
       "      <td>['Emily Deschanel, ', 'Sam Jaeger, ', 'Gerardo...</td>\n",
       "      <td>9773.0</td>\n",
       "      <td>356</td>\n",
       "      <td>min</td>\n",
       "      <td>series</td>\n",
       "    </tr>\n",
       "    <tr>\n",
       "      <th>4</th>\n",
       "      <td>Cyberpunk: Edgerunners</td>\n",
       "      <td>(2022– )</td>\n",
       "      <td>TV-MA</td>\n",
       "      <td>24 min</td>\n",
       "      <td>Animation, Action, Adventure</td>\n",
       "      <td>8.6</td>\n",
       "      <td>A Street Kid trying to survive in a technology...</td>\n",
       "      <td>['Zach Aguilar, ', 'Kenichiro Ohashi, ', 'Emi ...</td>\n",
       "      <td>15413.0</td>\n",
       "      <td>24</td>\n",
       "      <td>min</td>\n",
       "      <td>series</td>\n",
       "    </tr>\n",
       "  </tbody>\n",
       "</table>\n",
       "</div>"
      ],
      "text/plain": [
       "                    title         year certificate duration  \\\n",
       "0               Cobra Kai     (2018– )       TV-14   30 min   \n",
       "1               The Crown     (2016– )       TV-MA   58 min   \n",
       "2        Better Call Saul  (2015–2022)       TV-MA   46 min   \n",
       "3           Devil in Ohio       (2022)       TV-MA  356 min   \n",
       "4  Cyberpunk: Edgerunners     (2022– )       TV-MA   24 min   \n",
       "\n",
       "                          genre  rating  \\\n",
       "0         Action, Comedy, Drama     8.5   \n",
       "1     Biography, Drama, History     8.7   \n",
       "2                  Crime, Drama     8.9   \n",
       "3        Drama, Horror, Mystery     5.9   \n",
       "4  Animation, Action, Adventure     8.6   \n",
       "\n",
       "                                         description  \\\n",
       "0  Decades after their 1984 All Valley Karate Tou...   \n",
       "1  Follows the political rivalries and romance of...   \n",
       "2  The trials and tribulations of criminal lawyer...   \n",
       "3  When a psychiatrist shelters a mysterious cult...   \n",
       "4  A Street Kid trying to survive in a technology...   \n",
       "\n",
       "                                               stars     votes  Duration  \\\n",
       "0  ['Ralph Macchio, ', 'William Zabka, ', 'Courtn...  177031.0        30   \n",
       "1  ['Claire Foy, ', 'Olivia Colman, ', 'Imelda St...  199885.0        58   \n",
       "2  ['Bob Odenkirk, ', 'Rhea Seehorn, ', 'Jonathan...  501384.0        46   \n",
       "3  ['Emily Deschanel, ', 'Sam Jaeger, ', 'Gerardo...    9773.0       356   \n",
       "4  ['Zach Aguilar, ', 'Kenichiro Ohashi, ', 'Emi ...   15413.0        24   \n",
       "\n",
       "  Units Category  \n",
       "0   min   series  \n",
       "1   min   series  \n",
       "2   min   series  \n",
       "3   min   series  \n",
       "4   min   series  "
      ]
     },
     "execution_count": 26,
     "metadata": {},
     "output_type": "execute_result"
    }
   ],
   "source": [
    "netflix_series_df = netflix_df[netflix_df['Category'] == 'series']\n",
    "netflix_series_df.head()"
   ]
  },
  {
   "cell_type": "code",
   "execution_count": 27,
   "metadata": {},
   "outputs": [],
   "source": [
    "import jovian"
   ]
  },
  {
   "cell_type": "code",
   "execution_count": 28,
   "metadata": {},
   "outputs": [
    {
     "data": {
      "application/javascript": [
       "window.require && require([\"base/js/namespace\"],function(Jupyter){Jupyter.notebook.save_checkpoint()})"
      ],
      "text/plain": [
       "<IPython.core.display.Javascript object>"
      ]
     },
     "metadata": {},
     "output_type": "display_data"
    },
    {
     "name": "stdout",
     "output_type": "stream",
     "text": [
      "[jovian] Updating notebook \"lakshminarayanan-ravikumar/netflix-popular-movies-and-series\" on https://jovian.ai\u001b[0m\n",
      "[jovian] Committed successfully! https://jovian.ai/lakshminarayanan-ravikumar/netflix-popular-movies-and-series\u001b[0m\n"
     ]
    },
    {
     "data": {
      "text/plain": [
       "'https://jovian.ai/lakshminarayanan-ravikumar/netflix-popular-movies-and-series'"
      ]
     },
     "execution_count": 28,
     "metadata": {},
     "output_type": "execute_result"
    }
   ],
   "source": [
    "jovian.commit()"
   ]
  },
  {
   "cell_type": "markdown",
   "metadata": {},
   "source": [
    "## Exploratory Analysis and Visualization\n",
    "\n",
    "**Analyze the influence of various factors like duration, rating in the customer votes**\n",
    "\n"
   ]
  },
  {
   "cell_type": "markdown",
   "metadata": {},
   "source": [
    "Importing`matplotlib.pyplot` and `seaborn`."
   ]
  },
  {
   "cell_type": "code",
   "execution_count": 29,
   "metadata": {},
   "outputs": [],
   "source": [
    "import seaborn as sns\n",
    "import matplotlib\n",
    "import matplotlib.pyplot as plt\n",
    "%matplotlib inline\n",
    "\n",
    "sns.set_style('darkgrid')\n",
    "matplotlib.rcParams['font.size'] = 14\n",
    "matplotlib.rcParams['figure.figsize'] = (9, 5)\n",
    "matplotlib.rcParams['figure.facecolor'] = '#00000000'"
   ]
  },
  {
   "cell_type": "markdown",
   "metadata": {},
   "source": [
    "**Analysis 1 - Distribution of duration of the movie**"
   ]
  },
  {
   "cell_type": "code",
   "execution_count": 30,
   "metadata": {},
   "outputs": [
    {
     "data": {
      "image/png": "[encoded data removed]",
      "text/plain": [
       "<Figure size 1008x432 with 2 Axes>"
      ]
     },
     "metadata": {
      "needs_background": "light"
     },
     "output_type": "display_data"
    }
   ],
   "source": [
    "fig, ax = plt.subplots(1,2,figsize = (14,6))\n",
    "values,bins,bars = ax[0].hist(netflix_movie_df['Duration'],bins = 10)\n",
    "ax[0].set(xlabel = \"Duration\", ylabel = \"Number of movies\", title = \"Distribution of the duration of movies\")\n",
    "ax[0].bar_label(bars, fontsize=13)\n",
    "values,bins,bars = ax[1].hist(netflix_series_df['Duration'],bins = 10)\n",
    "ax[1].set(xlabel = \"Duration\", ylabel = \"Number of series\", title = \"Distribution of the duration of series\")\n",
    "ax[1].bar_label(bars, fontsize=13)\n",
    "plt.show()"
   ]
  },
  {
   "cell_type": "markdown",
   "metadata": {},
   "source": [
    "**Insight** - Here we can see, more than 80% of the movies have a duration below 140 minutes and more than 95% of the series are in the 0 - 100 duration. The series above 100 minutes can be ignored, since it can be the sum of all the episodes in the series."
   ]
  },
  {
   "cell_type": "code",
   "execution_count": 31,
   "metadata": {},
   "outputs": [
    {
     "data": {
      "image/png": "[encoded data removed]",
      "text/plain": [
       "<Figure size 1008x432 with 2 Axes>"
      ]
     },
     "metadata": {
      "needs_background": "light"
     },
     "output_type": "display_data"
    }
   ],
   "source": [
    "fig, ax = plt.subplots(1,2,figsize = (14,6))\n",
    "values,bins,bars = ax[0].hist(netflix_movie_df['Duration'],bins = 10)\n",
    "ax[0].set(xlabel = \"Duration\", ylabel = \"Number of movies\", title = \"Distribution of the duration of movies\")\n",
    "ax[0].bar_label(bars, fontsize=13)\n",
    "values,bins,bars = ax[1].hist(netflix_series_df['Duration'],bins = 10,range = [1,100])\n",
    "ax[1].set(xlabel = \"Duration\", ylabel = \"Number of series\", title = \"Distribution of the duration of series\")\n",
    "ax[1].bar_label(bars, fontsize=13)\n",
    "plt.show()"
   ]
  },
  {
   "cell_type": "markdown",
   "metadata": {},
   "source": [
    "**Analysis 2 - Distribution of ratings of the movie**"
   ]
  },
  {
   "cell_type": "code",
   "execution_count": 32,
   "metadata": {},
   "outputs": [
    {
     "data": {
      "image/png": "[encoded data removed]",
      "text/plain": [
       "<Figure size 1008x432 with 2 Axes>"
      ]
     },
     "metadata": {
      "needs_background": "light"
     },
     "output_type": "display_data"
    }
   ],
   "source": [
    "fig, ax = plt.subplots(1,2,figsize = (14,6))\n",
    "values,bins,bars = ax[0].hist(netflix_movie_df['rating'],bins = 10)\n",
    "ax[0].set(xlabel = \"Rating\", ylabel = \"Number of movies\", title = \"Distribution of the Rating of movies\")\n",
    "ax[0].bar_label(bars, fontsize=13)\n",
    "values,bins,bars = ax[1].hist(netflix_series_df['rating'],bins = 10)\n",
    "ax[1].set(xlabel = \"Rating\", ylabel = \"Number of series\", title = \"Distribution of the Rating of series\")\n",
    "ax[1].bar_label(bars, fontsize=13)\n",
    "plt.show()"
   ]
  },
  {
   "cell_type": "markdown",
   "metadata": {},
   "source": [
    "**Analysis 3 - Top 10 movies based on the Votes**"
   ]
  },
  {
   "cell_type": "code",
   "execution_count": 33,
   "metadata": {},
   "outputs": [
    {
     "data": {
      "text/html": [
       "<div>\n",
       "<style scoped>\n",
       "    .dataframe tbody tr th:only-of-type {\n",
       "        vertical-align: middle;\n",
       "    }\n",
       "\n",
       "    .dataframe tbody tr th {\n",
       "        vertical-align: top;\n",
       "    }\n",
       "\n",
       "    .dataframe thead th {\n",
       "        text-align: right;\n",
       "    }\n",
       "</style>\n",
       "<table border=\"1\" class=\"dataframe\">\n",
       "  <thead>\n",
       "    <tr style=\"text-align: right;\">\n",
       "      <th></th>\n",
       "      <th>title</th>\n",
       "      <th>year</th>\n",
       "      <th>certificate</th>\n",
       "      <th>duration</th>\n",
       "      <th>genre</th>\n",
       "      <th>rating</th>\n",
       "      <th>description</th>\n",
       "      <th>stars</th>\n",
       "      <th>votes</th>\n",
       "      <th>Duration</th>\n",
       "      <th>Units</th>\n",
       "      <th>Category</th>\n",
       "    </tr>\n",
       "  </thead>\n",
       "  <tbody>\n",
       "    <tr>\n",
       "      <th>9921</th>\n",
       "      <td>The Lord of the Rings: The Fellowship of the Ring</td>\n",
       "      <td>(2001)</td>\n",
       "      <td>PG-13</td>\n",
       "      <td>178 min</td>\n",
       "      <td>Action, Adventure, Drama</td>\n",
       "      <td>8.8</td>\n",
       "      <td>A meek Hobbit from the Shire and eight compani...</td>\n",
       "      <td>['Peter Jackson', '| ', '    Stars:', 'Elijah ...</td>\n",
       "      <td>1844075.0</td>\n",
       "      <td>178</td>\n",
       "      <td>min</td>\n",
       "      <td>movie</td>\n",
       "    </tr>\n",
       "    <tr>\n",
       "      <th>20</th>\n",
       "      <td>The Lord of the Rings: The Fellowship of the Ring</td>\n",
       "      <td>(2001)</td>\n",
       "      <td>PG-13</td>\n",
       "      <td>178 min</td>\n",
       "      <td>Action, Adventure, Drama</td>\n",
       "      <td>8.8</td>\n",
       "      <td>A meek Hobbit from the Shire and eight compani...</td>\n",
       "      <td>['Peter Jackson', '| ', '    Stars:', 'Elijah ...</td>\n",
       "      <td>1844055.0</td>\n",
       "      <td>178</td>\n",
       "      <td>min</td>\n",
       "      <td>movie</td>\n",
       "    </tr>\n",
       "    <tr>\n",
       "      <th>57</th>\n",
       "      <td>The Lord of the Rings: The Return of the King</td>\n",
       "      <td>(2003)</td>\n",
       "      <td>PG-13</td>\n",
       "      <td>201 min</td>\n",
       "      <td>Action, Adventure, Drama</td>\n",
       "      <td>9.0</td>\n",
       "      <td>Gandalf and Aragorn lead the World of Men agai...</td>\n",
       "      <td>['Peter Jackson', '| ', '    Stars:', 'Elijah ...</td>\n",
       "      <td>1819157.0</td>\n",
       "      <td>201</td>\n",
       "      <td>min</td>\n",
       "      <td>movie</td>\n",
       "    </tr>\n",
       "    <tr>\n",
       "      <th>78</th>\n",
       "      <td>The Lord of the Rings: The Two Towers</td>\n",
       "      <td>(2002)</td>\n",
       "      <td>PG-13</td>\n",
       "      <td>179 min</td>\n",
       "      <td>Action, Adventure, Drama</td>\n",
       "      <td>8.8</td>\n",
       "      <td>While Frodo and Sam edge closer to Mordor with...</td>\n",
       "      <td>['Peter Jackson', '| ', '    Stars:', 'Elijah ...</td>\n",
       "      <td>1642708.0</td>\n",
       "      <td>179</td>\n",
       "      <td>min</td>\n",
       "      <td>movie</td>\n",
       "    </tr>\n",
       "    <tr>\n",
       "      <th>153</th>\n",
       "      <td>Gladiator</td>\n",
       "      <td>(2000)</td>\n",
       "      <td>R</td>\n",
       "      <td>155 min</td>\n",
       "      <td>Action, Adventure, Drama</td>\n",
       "      <td>8.5</td>\n",
       "      <td>A former Roman General sets out to exact venge...</td>\n",
       "      <td>['Ridley Scott', '| ', '    Stars:', 'Russell ...</td>\n",
       "      <td>1481531.0</td>\n",
       "      <td>155</td>\n",
       "      <td>min</td>\n",
       "      <td>movie</td>\n",
       "    </tr>\n",
       "    <tr>\n",
       "      <th>173</th>\n",
       "      <td>The Departed</td>\n",
       "      <td>(2006)</td>\n",
       "      <td>R</td>\n",
       "      <td>151 min</td>\n",
       "      <td>Crime, Drama, Thriller</td>\n",
       "      <td>8.5</td>\n",
       "      <td>An undercover cop and a mole in the police att...</td>\n",
       "      <td>['Martin Scorsese', '| ', '    Stars:', 'Leona...</td>\n",
       "      <td>1310171.0</td>\n",
       "      <td>151</td>\n",
       "      <td>min</td>\n",
       "      <td>movie</td>\n",
       "    </tr>\n",
       "    <tr>\n",
       "      <th>96</th>\n",
       "      <td>Titanic</td>\n",
       "      <td>(1997)</td>\n",
       "      <td>PG-13</td>\n",
       "      <td>194 min</td>\n",
       "      <td>Drama, Romance</td>\n",
       "      <td>7.9</td>\n",
       "      <td>A seventeen-year-old aristocrat falls in love ...</td>\n",
       "      <td>['James Cameron', '| ', '    Stars:', 'Leonard...</td>\n",
       "      <td>1158746.0</td>\n",
       "      <td>194</td>\n",
       "      <td>min</td>\n",
       "      <td>movie</td>\n",
       "    </tr>\n",
       "    <tr>\n",
       "      <th>161</th>\n",
       "      <td>Léon: The Professional</td>\n",
       "      <td>(1994)</td>\n",
       "      <td>R</td>\n",
       "      <td>110 min</td>\n",
       "      <td>Action, Crime, Drama</td>\n",
       "      <td>8.5</td>\n",
       "      <td>12-year-old Mathilda is reluctantly taken in b...</td>\n",
       "      <td>['Luc Besson', '| ', '    Stars:', 'Jean Reno,...</td>\n",
       "      <td>1147345.0</td>\n",
       "      <td>110</td>\n",
       "      <td>min</td>\n",
       "      <td>movie</td>\n",
       "    </tr>\n",
       "    <tr>\n",
       "      <th>271</th>\n",
       "      <td>Kill Bill: Vol. 1</td>\n",
       "      <td>(2003)</td>\n",
       "      <td>R</td>\n",
       "      <td>111 min</td>\n",
       "      <td>Action, Crime, Drama</td>\n",
       "      <td>8.2</td>\n",
       "      <td>After awakening from a four-year coma, a forme...</td>\n",
       "      <td>['Quentin Tarantino', '| ', '    Stars:', 'Uma...</td>\n",
       "      <td>1103348.0</td>\n",
       "      <td>111</td>\n",
       "      <td>min</td>\n",
       "      <td>movie</td>\n",
       "    </tr>\n",
       "    <tr>\n",
       "      <th>113</th>\n",
       "      <td>Jurassic Park</td>\n",
       "      <td>(1993)</td>\n",
       "      <td>PG-13</td>\n",
       "      <td>127 min</td>\n",
       "      <td>Action, Adventure, Sci-Fi</td>\n",
       "      <td>8.2</td>\n",
       "      <td>A pragmatic paleontologist touring an almost c...</td>\n",
       "      <td>['Steven Spielberg', '| ', '    Stars:', 'Sam ...</td>\n",
       "      <td>978402.0</td>\n",
       "      <td>127</td>\n",
       "      <td>min</td>\n",
       "      <td>movie</td>\n",
       "    </tr>\n",
       "  </tbody>\n",
       "</table>\n",
       "</div>"
      ],
      "text/plain": [
       "                                                  title    year certificate  \\\n",
       "9921  The Lord of the Rings: The Fellowship of the Ring  (2001)       PG-13   \n",
       "20    The Lord of the Rings: The Fellowship of the Ring  (2001)       PG-13   \n",
       "57        The Lord of the Rings: The Return of the King  (2003)       PG-13   \n",
       "78                The Lord of the Rings: The Two Towers  (2002)       PG-13   \n",
       "153                                           Gladiator  (2000)           R   \n",
       "173                                        The Departed  (2006)           R   \n",
       "96                                              Titanic  (1997)       PG-13   \n",
       "161                              Léon: The Professional  (1994)           R   \n",
       "271                                   Kill Bill: Vol. 1  (2003)           R   \n",
       "113                                       Jurassic Park  (1993)       PG-13   \n",
       "\n",
       "     duration                      genre  rating  \\\n",
       "9921  178 min   Action, Adventure, Drama     8.8   \n",
       "20    178 min   Action, Adventure, Drama     8.8   \n",
       "57    201 min   Action, Adventure, Drama     9.0   \n",
       "78    179 min   Action, Adventure, Drama     8.8   \n",
       "153   155 min   Action, Adventure, Drama     8.5   \n",
       "173   151 min     Crime, Drama, Thriller     8.5   \n",
       "96    194 min             Drama, Romance     7.9   \n",
       "161   110 min       Action, Crime, Drama     8.5   \n",
       "271   111 min       Action, Crime, Drama     8.2   \n",
       "113   127 min  Action, Adventure, Sci-Fi     8.2   \n",
       "\n",
       "                                            description  \\\n",
       "9921  A meek Hobbit from the Shire and eight compani...   \n",
       "20    A meek Hobbit from the Shire and eight compani...   \n",
       "57    Gandalf and Aragorn lead the World of Men agai...   \n",
       "78    While Frodo and Sam edge closer to Mordor with...   \n",
       "153   A former Roman General sets out to exact venge...   \n",
       "173   An undercover cop and a mole in the police att...   \n",
       "96    A seventeen-year-old aristocrat falls in love ...   \n",
       "161   12-year-old Mathilda is reluctantly taken in b...   \n",
       "271   After awakening from a four-year coma, a forme...   \n",
       "113   A pragmatic paleontologist touring an almost c...   \n",
       "\n",
       "                                                  stars      votes  Duration  \\\n",
       "9921  ['Peter Jackson', '| ', '    Stars:', 'Elijah ...  1844075.0       178   \n",
       "20    ['Peter Jackson', '| ', '    Stars:', 'Elijah ...  1844055.0       178   \n",
       "57    ['Peter Jackson', '| ', '    Stars:', 'Elijah ...  1819157.0       201   \n",
       "78    ['Peter Jackson', '| ', '    Stars:', 'Elijah ...  1642708.0       179   \n",
       "153   ['Ridley Scott', '| ', '    Stars:', 'Russell ...  1481531.0       155   \n",
       "173   ['Martin Scorsese', '| ', '    Stars:', 'Leona...  1310171.0       151   \n",
       "96    ['James Cameron', '| ', '    Stars:', 'Leonard...  1158746.0       194   \n",
       "161   ['Luc Besson', '| ', '    Stars:', 'Jean Reno,...  1147345.0       110   \n",
       "271   ['Quentin Tarantino', '| ', '    Stars:', 'Uma...  1103348.0       111   \n",
       "113   ['Steven Spielberg', '| ', '    Stars:', 'Sam ...   978402.0       127   \n",
       "\n",
       "     Units Category  \n",
       "9921   min    movie  \n",
       "20     min    movie  \n",
       "57     min    movie  \n",
       "78     min    movie  \n",
       "153    min    movie  \n",
       "173    min    movie  \n",
       "96     min    movie  \n",
       "161    min    movie  \n",
       "271    min    movie  \n",
       "113    min    movie  "
      ]
     },
     "execution_count": 33,
     "metadata": {},
     "output_type": "execute_result"
    }
   ],
   "source": [
    "netflix_movie_df.sort_values('votes',ascending = False).head(10)"
   ]
  },
  {
   "cell_type": "markdown",
   "metadata": {},
   "source": [
    "**Analysis 3 - Top 10 series based on the Votes**"
   ]
  },
  {
   "cell_type": "code",
   "execution_count": 34,
   "metadata": {},
   "outputs": [
    {
     "data": {
      "text/html": [
       "<div>\n",
       "<style scoped>\n",
       "    .dataframe tbody tr th:only-of-type {\n",
       "        vertical-align: middle;\n",
       "    }\n",
       "\n",
       "    .dataframe tbody tr th {\n",
       "        vertical-align: top;\n",
       "    }\n",
       "\n",
       "    .dataframe thead th {\n",
       "        text-align: right;\n",
       "    }\n",
       "</style>\n",
       "<table border=\"1\" class=\"dataframe\">\n",
       "  <thead>\n",
       "    <tr style=\"text-align: right;\">\n",
       "      <th></th>\n",
       "      <th>title</th>\n",
       "      <th>year</th>\n",
       "      <th>certificate</th>\n",
       "      <th>duration</th>\n",
       "      <th>genre</th>\n",
       "      <th>rating</th>\n",
       "      <th>description</th>\n",
       "      <th>stars</th>\n",
       "      <th>votes</th>\n",
       "      <th>Duration</th>\n",
       "      <th>Units</th>\n",
       "      <th>Category</th>\n",
       "    </tr>\n",
       "  </thead>\n",
       "  <tbody>\n",
       "    <tr>\n",
       "      <th>9951</th>\n",
       "      <td>Breaking Bad</td>\n",
       "      <td>(2008–2013)</td>\n",
       "      <td>TV-MA</td>\n",
       "      <td>49 min</td>\n",
       "      <td>Crime, Drama, Thriller</td>\n",
       "      <td>9.5</td>\n",
       "      <td>A high school chemistry teacher diagnosed with...</td>\n",
       "      <td>['Bryan Cranston, ', 'Aaron Paul, ', 'Anna Gun...</td>\n",
       "      <td>1831359.0</td>\n",
       "      <td>49</td>\n",
       "      <td>min</td>\n",
       "      <td>series</td>\n",
       "    </tr>\n",
       "    <tr>\n",
       "      <th>7</th>\n",
       "      <td>Breaking Bad</td>\n",
       "      <td>(2008–2013)</td>\n",
       "      <td>TV-MA</td>\n",
       "      <td>49 min</td>\n",
       "      <td>Crime, Drama, Thriller</td>\n",
       "      <td>9.5</td>\n",
       "      <td>A high school chemistry teacher diagnosed with...</td>\n",
       "      <td>['Bryan Cranston, ', 'Aaron Paul, ', 'Anna Gun...</td>\n",
       "      <td>1831340.0</td>\n",
       "      <td>49</td>\n",
       "      <td>min</td>\n",
       "      <td>series</td>\n",
       "    </tr>\n",
       "    <tr>\n",
       "      <th>9948</th>\n",
       "      <td>Stranger Things</td>\n",
       "      <td>(2016– )</td>\n",
       "      <td>TV-14</td>\n",
       "      <td>51 min</td>\n",
       "      <td>Drama, Fantasy, Horror</td>\n",
       "      <td>8.7</td>\n",
       "      <td>When a young boy disappears, his mother, a pol...</td>\n",
       "      <td>['Millie Bobby Brown, ', 'Finn Wolfhard, ', 'W...</td>\n",
       "      <td>1149902.0</td>\n",
       "      <td>51</td>\n",
       "      <td>min</td>\n",
       "      <td>series</td>\n",
       "    </tr>\n",
       "    <tr>\n",
       "      <th>10</th>\n",
       "      <td>Stranger Things</td>\n",
       "      <td>(2016– )</td>\n",
       "      <td>TV-14</td>\n",
       "      <td>51 min</td>\n",
       "      <td>Drama, Fantasy, Horror</td>\n",
       "      <td>8.7</td>\n",
       "      <td>When a young boy disappears, his mother, a pol...</td>\n",
       "      <td>['Millie Bobby Brown, ', 'Finn Wolfhard, ', 'W...</td>\n",
       "      <td>1149889.0</td>\n",
       "      <td>51</td>\n",
       "      <td>min</td>\n",
       "      <td>series</td>\n",
       "    </tr>\n",
       "    <tr>\n",
       "      <th>9932</th>\n",
       "      <td>Friends</td>\n",
       "      <td>(1994–2004)</td>\n",
       "      <td>TV-14</td>\n",
       "      <td>22 min</td>\n",
       "      <td>Comedy, Romance</td>\n",
       "      <td>8.9</td>\n",
       "      <td>Follows the personal and professional lives of...</td>\n",
       "      <td>['Jennifer Aniston, ', 'Courteney Cox, ', 'Lis...</td>\n",
       "      <td>979428.0</td>\n",
       "      <td>22</td>\n",
       "      <td>min</td>\n",
       "      <td>series</td>\n",
       "    </tr>\n",
       "    <tr>\n",
       "      <th>26</th>\n",
       "      <td>Friends</td>\n",
       "      <td>(1994–2004)</td>\n",
       "      <td>TV-14</td>\n",
       "      <td>22 min</td>\n",
       "      <td>Comedy, Romance</td>\n",
       "      <td>8.9</td>\n",
       "      <td>Follows the personal and professional lives of...</td>\n",
       "      <td>['Jennifer Aniston, ', 'Courteney Cox, ', 'Lis...</td>\n",
       "      <td>979424.0</td>\n",
       "      <td>22</td>\n",
       "      <td>min</td>\n",
       "      <td>series</td>\n",
       "    </tr>\n",
       "    <tr>\n",
       "      <th>9953</th>\n",
       "      <td>The Walking Dead</td>\n",
       "      <td>(2010–2022)</td>\n",
       "      <td>TV-MA</td>\n",
       "      <td>44 min</td>\n",
       "      <td>Drama, Horror, Thriller</td>\n",
       "      <td>8.1</td>\n",
       "      <td>Sheriff Deputy Rick Grimes wakes up from a com...</td>\n",
       "      <td>['Andrew Lincoln, ', 'Norman Reedus, ', 'Melis...</td>\n",
       "      <td>970067.0</td>\n",
       "      <td>44</td>\n",
       "      <td>min</td>\n",
       "      <td>series</td>\n",
       "    </tr>\n",
       "    <tr>\n",
       "      <th>12</th>\n",
       "      <td>The Walking Dead</td>\n",
       "      <td>(2010–2022)</td>\n",
       "      <td>TV-MA</td>\n",
       "      <td>44 min</td>\n",
       "      <td>Drama, Horror, Thriller</td>\n",
       "      <td>8.1</td>\n",
       "      <td>Sheriff Deputy Rick Grimes wakes up from a com...</td>\n",
       "      <td>['Andrew Lincoln, ', 'Norman Reedus, ', 'Melis...</td>\n",
       "      <td>970060.0</td>\n",
       "      <td>44</td>\n",
       "      <td>min</td>\n",
       "      <td>series</td>\n",
       "    </tr>\n",
       "    <tr>\n",
       "      <th>99</th>\n",
       "      <td>Dexter</td>\n",
       "      <td>(2006–2013)</td>\n",
       "      <td>TV-MA</td>\n",
       "      <td>53 min</td>\n",
       "      <td>Crime, Drama, Mystery</td>\n",
       "      <td>8.7</td>\n",
       "      <td>He's smart. He's lovable. He's Dexter Morgan, ...</td>\n",
       "      <td>['Michael C. Hall, ', 'Jennifer Carpenter, ', ...</td>\n",
       "      <td>720792.0</td>\n",
       "      <td>53</td>\n",
       "      <td>min</td>\n",
       "      <td>series</td>\n",
       "    </tr>\n",
       "    <tr>\n",
       "      <th>64</th>\n",
       "      <td>How I Met Your Mother</td>\n",
       "      <td>(2005–2014)</td>\n",
       "      <td>TV-14</td>\n",
       "      <td>22 min</td>\n",
       "      <td>Comedy, Romance</td>\n",
       "      <td>8.3</td>\n",
       "      <td>A father recounts to his children - through a ...</td>\n",
       "      <td>['Josh Radnor, ', 'Jason Segel, ', 'Cobie Smul...</td>\n",
       "      <td>676121.0</td>\n",
       "      <td>22</td>\n",
       "      <td>min</td>\n",
       "      <td>series</td>\n",
       "    </tr>\n",
       "  </tbody>\n",
       "</table>\n",
       "</div>"
      ],
      "text/plain": [
       "                      title         year certificate duration  \\\n",
       "9951           Breaking Bad  (2008–2013)       TV-MA   49 min   \n",
       "7              Breaking Bad  (2008–2013)       TV-MA   49 min   \n",
       "9948        Stranger Things     (2016– )       TV-14   51 min   \n",
       "10          Stranger Things     (2016– )       TV-14   51 min   \n",
       "9932                Friends  (1994–2004)       TV-14   22 min   \n",
       "26                  Friends  (1994–2004)       TV-14   22 min   \n",
       "9953       The Walking Dead  (2010–2022)       TV-MA   44 min   \n",
       "12         The Walking Dead  (2010–2022)       TV-MA   44 min   \n",
       "99                   Dexter  (2006–2013)       TV-MA   53 min   \n",
       "64    How I Met Your Mother  (2005–2014)       TV-14   22 min   \n",
       "\n",
       "                        genre  rating  \\\n",
       "9951   Crime, Drama, Thriller     9.5   \n",
       "7      Crime, Drama, Thriller     9.5   \n",
       "9948   Drama, Fantasy, Horror     8.7   \n",
       "10     Drama, Fantasy, Horror     8.7   \n",
       "9932          Comedy, Romance     8.9   \n",
       "26            Comedy, Romance     8.9   \n",
       "9953  Drama, Horror, Thriller     8.1   \n",
       "12    Drama, Horror, Thriller     8.1   \n",
       "99      Crime, Drama, Mystery     8.7   \n",
       "64            Comedy, Romance     8.3   \n",
       "\n",
       "                                            description  \\\n",
       "9951  A high school chemistry teacher diagnosed with...   \n",
       "7     A high school chemistry teacher diagnosed with...   \n",
       "9948  When a young boy disappears, his mother, a pol...   \n",
       "10    When a young boy disappears, his mother, a pol...   \n",
       "9932  Follows the personal and professional lives of...   \n",
       "26    Follows the personal and professional lives of...   \n",
       "9953  Sheriff Deputy Rick Grimes wakes up from a com...   \n",
       "12    Sheriff Deputy Rick Grimes wakes up from a com...   \n",
       "99    He's smart. He's lovable. He's Dexter Morgan, ...   \n",
       "64    A father recounts to his children - through a ...   \n",
       "\n",
       "                                                  stars      votes  Duration  \\\n",
       "9951  ['Bryan Cranston, ', 'Aaron Paul, ', 'Anna Gun...  1831359.0        49   \n",
       "7     ['Bryan Cranston, ', 'Aaron Paul, ', 'Anna Gun...  1831340.0        49   \n",
       "9948  ['Millie Bobby Brown, ', 'Finn Wolfhard, ', 'W...  1149902.0        51   \n",
       "10    ['Millie Bobby Brown, ', 'Finn Wolfhard, ', 'W...  1149889.0        51   \n",
       "9932  ['Jennifer Aniston, ', 'Courteney Cox, ', 'Lis...   979428.0        22   \n",
       "26    ['Jennifer Aniston, ', 'Courteney Cox, ', 'Lis...   979424.0        22   \n",
       "9953  ['Andrew Lincoln, ', 'Norman Reedus, ', 'Melis...   970067.0        44   \n",
       "12    ['Andrew Lincoln, ', 'Norman Reedus, ', 'Melis...   970060.0        44   \n",
       "99    ['Michael C. Hall, ', 'Jennifer Carpenter, ', ...   720792.0        53   \n",
       "64    ['Josh Radnor, ', 'Jason Segel, ', 'Cobie Smul...   676121.0        22   \n",
       "\n",
       "     Units Category  \n",
       "9951   min   series  \n",
       "7      min   series  \n",
       "9948   min   series  \n",
       "10     min   series  \n",
       "9932   min   series  \n",
       "26     min   series  \n",
       "9953   min   series  \n",
       "12     min   series  \n",
       "99     min   series  \n",
       "64     min   series  "
      ]
     },
     "execution_count": 34,
     "metadata": {},
     "output_type": "execute_result"
    }
   ],
   "source": [
    "netflix_series_df.sort_values('votes',ascending = False).head(10)"
   ]
  },
  {
   "cell_type": "markdown",
   "metadata": {},
   "source": [
    "**Insight** - Here 9 out of 10 movies in the top 10 voted movie list and 10 out of 10 series in the top 10 voted series list has a rating greater than 8.0, it would be interesting to find the correlation between rating and votes."
   ]
  },
  {
   "cell_type": "markdown",
   "metadata": {},
   "source": [
    "**Analysis 4 - Rating vs Votes - Correlation**"
   ]
  },
  {
   "cell_type": "code",
   "execution_count": 35,
   "metadata": {},
   "outputs": [
    {
     "data": {
      "image/png": "[encoded data removed]",
      "text/plain": [
       "<Figure size 1008x432 with 2 Axes>"
      ]
     },
     "metadata": {
      "needs_background": "light"
     },
     "output_type": "display_data"
    }
   ],
   "source": [
    "fig, ax = plt.subplots(1,2,figsize = (14,6))\n",
    "ax[0].scatter(netflix_movie_df['rating'],netflix_movie_df['votes'])\n",
    "ax[0].set(xlabel = \"Rating\", ylabel = \"Number of Votes\", title = \"Rating vs Votes (Movies)\")\n",
    "ax[1].scatter(netflix_series_df['rating'],netflix_series_df['votes'])\n",
    "ax[1].set(xlabel = \"Rating\", ylabel = \"Number of Votes\", title = \"Rating vs Votes (Series)\")\n",
    "plt.show()"
   ]
  },
  {
   "cell_type": "markdown",
   "metadata": {},
   "source": [
    "**Insight** - The trend between rating and votes is a positive correlation for both movies and series. Let us try a scatter plot for checking the correlation between duration and votes"
   ]
  },
  {
   "cell_type": "code",
   "execution_count": 36,
   "metadata": {},
   "outputs": [
    {
     "data": {
      "image/png": "[encoded data removed]",
      "text/plain": [
       "<Figure size 1008x432 with 2 Axes>"
      ]
     },
     "metadata": {
      "needs_background": "light"
     },
     "output_type": "display_data"
    }
   ],
   "source": [
    "fig, ax = plt.subplots(1,2,figsize = (14,6))\n",
    "ax[0].scatter(netflix_movie_df['Duration'],netflix_movie_df['votes'])\n",
    "ax[0].set(xlabel = \"Duration\", ylabel = \"Number of Votes\", title = \"Duration vs Votes (Movies)\")\n",
    "ax[1].scatter(netflix_series_df['Duration'],netflix_series_df['votes'])\n",
    "ax[1].set(xlabel = \"Duration\", ylabel = \"Number of Votes\", title = \"Duration vs Votes (Series)\",xlim = (1,100))\n",
    "plt.show()"
   ]
  },
  {
   "cell_type": "markdown",
   "metadata": {},
   "source": [
    "**Insight** - The duration of the series seems to be independent of the votes, but in case of movies, people prefer to watch movies in the duration of 80 mins to 150 mins (A mild relation!)"
   ]
  },
  {
   "cell_type": "markdown",
   "metadata": {},
   "source": [
    "**Analysis 5 - Top Movie genre based on the number of votes**"
   ]
  },
  {
   "cell_type": "code",
   "execution_count": 37,
   "metadata": {},
   "outputs": [
    {
     "data": {
      "text/html": [
       "<div>\n",
       "<style scoped>\n",
       "    .dataframe tbody tr th:only-of-type {\n",
       "        vertical-align: middle;\n",
       "    }\n",
       "\n",
       "    .dataframe tbody tr th {\n",
       "        vertical-align: top;\n",
       "    }\n",
       "\n",
       "    .dataframe thead th {\n",
       "        text-align: right;\n",
       "    }\n",
       "</style>\n",
       "<table border=\"1\" class=\"dataframe\">\n",
       "  <thead>\n",
       "    <tr style=\"text-align: right;\">\n",
       "      <th></th>\n",
       "      <th>title</th>\n",
       "      <th>genre</th>\n",
       "      <th>votes</th>\n",
       "    </tr>\n",
       "  </thead>\n",
       "  <tbody>\n",
       "    <tr>\n",
       "      <th>9</th>\n",
       "      <td>Blonde</td>\n",
       "      <td>Biography, Drama, Mystery</td>\n",
       "      <td>935.0</td>\n",
       "    </tr>\n",
       "    <tr>\n",
       "      <th>11</th>\n",
       "      <td>End of the Road</td>\n",
       "      <td>Action, Crime, Drama</td>\n",
       "      <td>5122.0</td>\n",
       "    </tr>\n",
       "    <tr>\n",
       "      <th>13</th>\n",
       "      <td>Glass Onion: A Knives Out Mystery</td>\n",
       "      <td>Crime, Drama, Mystery</td>\n",
       "      <td>547.0</td>\n",
       "    </tr>\n",
       "    <tr>\n",
       "      <th>14</th>\n",
       "      <td>Do Revenge</td>\n",
       "      <td>Comedy</td>\n",
       "      <td>13457.0</td>\n",
       "    </tr>\n",
       "    <tr>\n",
       "      <th>15</th>\n",
       "      <td>I Came By</td>\n",
       "      <td>Thriller</td>\n",
       "      <td>16230.0</td>\n",
       "    </tr>\n",
       "  </tbody>\n",
       "</table>\n",
       "</div>"
      ],
      "text/plain": [
       "                                title                      genre    votes\n",
       "9                              Blonde  Biography, Drama, Mystery    935.0\n",
       "11                    End of the Road       Action, Crime, Drama   5122.0\n",
       "13  Glass Onion: A Knives Out Mystery      Crime, Drama, Mystery    547.0\n",
       "14                         Do Revenge                     Comedy  13457.0\n",
       "15                          I Came By                   Thriller  16230.0"
      ]
     },
     "execution_count": 37,
     "metadata": {},
     "output_type": "execute_result"
    }
   ],
   "source": [
    "movie_genre_df = netflix_movie_df[['title','genre','votes']]\n",
    "movie_genre_df.head()"
   ]
  },
  {
   "cell_type": "code",
   "execution_count": 38,
   "metadata": {},
   "outputs": [
    {
     "data": {
      "text/plain": [
       "3"
      ]
     },
     "execution_count": 38,
     "metadata": {},
     "output_type": "execute_result"
    }
   ],
   "source": [
    "movie_genre_df.genre.isna().sum()"
   ]
  },
  {
   "cell_type": "code",
   "execution_count": 39,
   "metadata": {},
   "outputs": [
    {
     "name": "stderr",
     "output_type": "stream",
     "text": [
      "/tmp/ipykernel_82/2550222073.py:1: SettingWithCopyWarning: \n",
      "A value is trying to be set on a copy of a slice from a DataFrame.\n",
      "Try using .loc[row_indexer,col_indexer] = value instead\n",
      "\n",
      "See the caveats in the documentation: https://pandas.pydata.org/pandas-docs/stable/user_guide/indexing.html#returning-a-view-versus-a-copy\n",
      "  movie_genre_df['genre'] = movie_genre_df['genre'].fillna('unknown')\n"
     ]
    }
   ],
   "source": [
    "movie_genre_df['genre'] = movie_genre_df['genre'].fillna('unknown')"
   ]
  },
  {
   "cell_type": "code",
   "execution_count": 40,
   "metadata": {},
   "outputs": [
    {
     "data": {
      "text/html": [
       "<div>\n",
       "<style scoped>\n",
       "    .dataframe tbody tr th:only-of-type {\n",
       "        vertical-align: middle;\n",
       "    }\n",
       "\n",
       "    .dataframe tbody tr th {\n",
       "        vertical-align: top;\n",
       "    }\n",
       "\n",
       "    .dataframe thead th {\n",
       "        text-align: right;\n",
       "    }\n",
       "</style>\n",
       "<table border=\"1\" class=\"dataframe\">\n",
       "  <thead>\n",
       "    <tr style=\"text-align: right;\">\n",
       "      <th></th>\n",
       "      <th>title</th>\n",
       "      <th>votes</th>\n",
       "      <th>value</th>\n",
       "      <th>genre</th>\n",
       "    </tr>\n",
       "  </thead>\n",
       "  <tbody>\n",
       "    <tr>\n",
       "      <th>0</th>\n",
       "      <td>Blonde</td>\n",
       "      <td>935.0</td>\n",
       "      <td>0</td>\n",
       "      <td>Biography</td>\n",
       "    </tr>\n",
       "    <tr>\n",
       "      <th>1</th>\n",
       "      <td>Blonde</td>\n",
       "      <td>935.0</td>\n",
       "      <td>1</td>\n",
       "      <td>Drama</td>\n",
       "    </tr>\n",
       "    <tr>\n",
       "      <th>2</th>\n",
       "      <td>Blonde</td>\n",
       "      <td>935.0</td>\n",
       "      <td>2</td>\n",
       "      <td>Mystery</td>\n",
       "    </tr>\n",
       "    <tr>\n",
       "      <th>3</th>\n",
       "      <td>End of the Road</td>\n",
       "      <td>5122.0</td>\n",
       "      <td>0</td>\n",
       "      <td>Action</td>\n",
       "    </tr>\n",
       "    <tr>\n",
       "      <th>4</th>\n",
       "      <td>End of the Road</td>\n",
       "      <td>5122.0</td>\n",
       "      <td>1</td>\n",
       "      <td>Crime</td>\n",
       "    </tr>\n",
       "    <tr>\n",
       "      <th>...</th>\n",
       "      <td>...</td>\n",
       "      <td>...</td>\n",
       "      <td>...</td>\n",
       "      <td>...</td>\n",
       "    </tr>\n",
       "    <tr>\n",
       "      <th>7981</th>\n",
       "      <td>Glass Onion: A Knives Out Mystery</td>\n",
       "      <td>548.0</td>\n",
       "      <td>0</td>\n",
       "      <td>Crime</td>\n",
       "    </tr>\n",
       "    <tr>\n",
       "      <th>7982</th>\n",
       "      <td>Glass Onion: A Knives Out Mystery</td>\n",
       "      <td>548.0</td>\n",
       "      <td>1</td>\n",
       "      <td>Drama</td>\n",
       "    </tr>\n",
       "    <tr>\n",
       "      <th>7983</th>\n",
       "      <td>Glass Onion: A Knives Out Mystery</td>\n",
       "      <td>548.0</td>\n",
       "      <td>2</td>\n",
       "      <td>Mystery</td>\n",
       "    </tr>\n",
       "    <tr>\n",
       "      <th>7984</th>\n",
       "      <td>The Gray Man</td>\n",
       "      <td>172166.0</td>\n",
       "      <td>0</td>\n",
       "      <td>Action</td>\n",
       "    </tr>\n",
       "    <tr>\n",
       "      <th>7985</th>\n",
       "      <td>The Gray Man</td>\n",
       "      <td>172166.0</td>\n",
       "      <td>1</td>\n",
       "      <td>Thriller</td>\n",
       "    </tr>\n",
       "  </tbody>\n",
       "</table>\n",
       "<p>7986 rows × 4 columns</p>\n",
       "</div>"
      ],
      "text/plain": [
       "                                  title     votes  value      genre\n",
       "0                                Blonde     935.0      0  Biography\n",
       "1                                Blonde     935.0      1      Drama\n",
       "2                                Blonde     935.0      2    Mystery\n",
       "3                       End of the Road    5122.0      0     Action\n",
       "4                       End of the Road    5122.0      1      Crime\n",
       "...                                 ...       ...    ...        ...\n",
       "7981  Glass Onion: A Knives Out Mystery     548.0      0      Crime\n",
       "7982  Glass Onion: A Knives Out Mystery     548.0      1      Drama\n",
       "7983  Glass Onion: A Knives Out Mystery     548.0      2    Mystery\n",
       "7984                       The Gray Man  172166.0      0     Action\n",
       "7985                       The Gray Man  172166.0      1   Thriller\n",
       "\n",
       "[7986 rows x 4 columns]"
      ]
     },
     "execution_count": 40,
     "metadata": {},
     "output_type": "execute_result"
    }
   ],
   "source": [
    "split_mgenre_df = movie_genre_df.set_index(['title','votes']).genre.str.split(',', expand=True)\n",
    "split_mgenre_df.columns.name = 'value'\n",
    "stack_mgenre_df = split_mgenre_df.stack()\n",
    "stack_mgenre_df.name = 'genre'\n",
    "genre_movie_df = stack_mgenre_df.reset_index()\n",
    "genre_movie_df['genre'] = genre_movie_df.genre.str.strip()\n",
    "genre_movie_df"
   ]
  },
  {
   "cell_type": "code",
   "execution_count": 41,
   "metadata": {},
   "outputs": [
    {
     "data": {
      "text/plain": [
       "28"
      ]
     },
     "execution_count": 41,
     "metadata": {},
     "output_type": "execute_result"
    }
   ],
   "source": [
    "len(genre_movie_df.genre.unique())"
   ]
  },
  {
   "cell_type": "markdown",
   "metadata": {},
   "source": [
    "There are totally 28 genres. Let us see which genre people has highest number of movies"
   ]
  },
  {
   "cell_type": "code",
   "execution_count": 42,
   "metadata": {},
   "outputs": [
    {
     "data": {
      "text/plain": [
       "Drama          1682\n",
       "Comedy         1122\n",
       "Action          698\n",
       "Crime           604\n",
       "Documentary     543\n",
       "Thriller        518\n",
       "Romance         459\n",
       "Adventure       390\n",
       "Horror          325\n",
       "Mystery         255\n",
       "Name: genre, dtype: int64"
      ]
     },
     "execution_count": 42,
     "metadata": {},
     "output_type": "execute_result"
    }
   ],
   "source": [
    "genre_movie_df.genre.value_counts().head(10)"
   ]
  },
  {
   "cell_type": "code",
   "execution_count": 43,
   "metadata": {},
   "outputs": [
    {
     "data": {
      "text/html": [
       "<div>\n",
       "<style scoped>\n",
       "    .dataframe tbody tr th:only-of-type {\n",
       "        vertical-align: middle;\n",
       "    }\n",
       "\n",
       "    .dataframe tbody tr th {\n",
       "        vertical-align: top;\n",
       "    }\n",
       "\n",
       "    .dataframe thead th {\n",
       "        text-align: right;\n",
       "    }\n",
       "</style>\n",
       "<table border=\"1\" class=\"dataframe\">\n",
       "  <thead>\n",
       "    <tr style=\"text-align: right;\">\n",
       "      <th></th>\n",
       "      <th>genre</th>\n",
       "      <th>votes</th>\n",
       "    </tr>\n",
       "  </thead>\n",
       "  <tbody>\n",
       "    <tr>\n",
       "      <th>0</th>\n",
       "      <td>Action</td>\n",
       "      <td>45508802.0</td>\n",
       "    </tr>\n",
       "    <tr>\n",
       "      <th>1</th>\n",
       "      <td>Adventure</td>\n",
       "      <td>36123274.0</td>\n",
       "    </tr>\n",
       "    <tr>\n",
       "      <th>2</th>\n",
       "      <td>Animation</td>\n",
       "      <td>8624049.0</td>\n",
       "    </tr>\n",
       "    <tr>\n",
       "      <th>3</th>\n",
       "      <td>Biography</td>\n",
       "      <td>5578575.0</td>\n",
       "    </tr>\n",
       "    <tr>\n",
       "      <th>4</th>\n",
       "      <td>Comedy</td>\n",
       "      <td>26110433.0</td>\n",
       "    </tr>\n",
       "  </tbody>\n",
       "</table>\n",
       "</div>"
      ],
      "text/plain": [
       "       genre       votes\n",
       "0     Action  45508802.0\n",
       "1  Adventure  36123274.0\n",
       "2  Animation   8624049.0\n",
       "3  Biography   5578575.0\n",
       "4     Comedy  26110433.0"
      ]
     },
     "execution_count": 43,
     "metadata": {},
     "output_type": "execute_result"
    }
   ],
   "source": [
    "popular_genre = genre_movie_df.groupby(['genre'])['votes'].sum().rename('votes').reset_index()\n",
    "popular_genre.head()"
   ]
  },
  {
   "cell_type": "code",
   "execution_count": 44,
   "metadata": {},
   "outputs": [
    {
     "data": {
      "text/html": [
       "<div>\n",
       "<style scoped>\n",
       "    .dataframe tbody tr th:only-of-type {\n",
       "        vertical-align: middle;\n",
       "    }\n",
       "\n",
       "    .dataframe tbody tr th {\n",
       "        vertical-align: top;\n",
       "    }\n",
       "\n",
       "    .dataframe thead th {\n",
       "        text-align: right;\n",
       "    }\n",
       "</style>\n",
       "<table border=\"1\" class=\"dataframe\">\n",
       "  <thead>\n",
       "    <tr style=\"text-align: right;\">\n",
       "      <th></th>\n",
       "      <th>genre</th>\n",
       "      <th>votes</th>\n",
       "    </tr>\n",
       "  </thead>\n",
       "  <tbody>\n",
       "    <tr>\n",
       "      <th>7</th>\n",
       "      <td>Drama</td>\n",
       "      <td>54059266.0</td>\n",
       "    </tr>\n",
       "    <tr>\n",
       "      <th>0</th>\n",
       "      <td>Action</td>\n",
       "      <td>45508802.0</td>\n",
       "    </tr>\n",
       "    <tr>\n",
       "      <th>1</th>\n",
       "      <td>Adventure</td>\n",
       "      <td>36123274.0</td>\n",
       "    </tr>\n",
       "    <tr>\n",
       "      <th>4</th>\n",
       "      <td>Comedy</td>\n",
       "      <td>26110433.0</td>\n",
       "    </tr>\n",
       "    <tr>\n",
       "      <th>5</th>\n",
       "      <td>Crime</td>\n",
       "      <td>24481272.0</td>\n",
       "    </tr>\n",
       "  </tbody>\n",
       "</table>\n",
       "</div>"
      ],
      "text/plain": [
       "       genre       votes\n",
       "7      Drama  54059266.0\n",
       "0     Action  45508802.0\n",
       "1  Adventure  36123274.0\n",
       "4     Comedy  26110433.0\n",
       "5      Crime  24481272.0"
      ]
     },
     "execution_count": 44,
     "metadata": {},
     "output_type": "execute_result"
    }
   ],
   "source": [
    "popular_genre.sort_values('votes',ascending = False).head(5)"
   ]
  },
  {
   "cell_type": "markdown",
   "metadata": {},
   "source": [
    "**Insight** - The above mentioned genre are the top 5 voted movie genre's"
   ]
  },
  {
   "cell_type": "code",
   "execution_count": 45,
   "metadata": {},
   "outputs": [],
   "source": [
    "import jovian"
   ]
  },
  {
   "cell_type": "code",
   "execution_count": 46,
   "metadata": {},
   "outputs": [
    {
     "data": {
      "application/javascript": [
       "window.require && require([\"base/js/namespace\"],function(Jupyter){Jupyter.notebook.save_checkpoint()})"
      ],
      "text/plain": [
       "<IPython.core.display.Javascript object>"
      ]
     },
     "metadata": {},
     "output_type": "display_data"
    },
    {
     "name": "stdout",
     "output_type": "stream",
     "text": [
      "[jovian] Updating notebook \"lakshminarayanan-ravikumar/netflix-popular-movies-and-series\" on https://jovian.ai\u001b[0m\n",
      "[jovian] Committed successfully! https://jovian.ai/lakshminarayanan-ravikumar/netflix-popular-movies-and-series\u001b[0m\n"
     ]
    },
    {
     "data": {
      "text/plain": [
       "'https://jovian.ai/lakshminarayanan-ravikumar/netflix-popular-movies-and-series'"
      ]
     },
     "execution_count": 46,
     "metadata": {},
     "output_type": "execute_result"
    }
   ],
   "source": [
    "jovian.commit()"
   ]
  },
  {
   "cell_type": "markdown",
   "metadata": {},
   "source": [
    "## Top 5 Interesting Questions\n",
    "\n",
    "The following are some of the interesting question of the netflix data\n",
    "\n"
   ]
  },
  {
   "cell_type": "markdown",
   "metadata": {},
   "source": [
    "> Instructions (delete this cell)\n",
    ">\n",
    "> - Ask at least 5 interesting questions about your dataset\n",
    "> - Answer the questions either by computing the results using Numpy/Pandas or by plotting graphs using Matplotlib/Seaborn\n",
    "> - Create new columns, merge multiple dataset and perform grouping/aggregation wherever necessary\n",
    "> - Wherever you're using a library function from Pandas/Numpy/Matplotlib etc. explain briefly what it does\n",
    "\n"
   ]
  },
  {
   "cell_type": "markdown",
   "metadata": {},
   "source": [
    "#### Q1: What is the average runtime of a movie and a series?"
   ]
  },
  {
   "cell_type": "code",
   "execution_count": 47,
   "metadata": {},
   "outputs": [
    {
     "name": "stdout",
     "output_type": "stream",
     "text": [
      "Average Runtime of a movie is 103.27237245609145 minutes\n"
     ]
    }
   ],
   "source": [
    "avg_movie_runtime = netflix_movie_df['Duration'].sum()/netflix_movie_df.shape[0]\n",
    "print(\"Average Runtime of a movie is {} minutes\".format(avg_movie_runtime))"
   ]
  },
  {
   "cell_type": "code",
   "execution_count": 48,
   "metadata": {},
   "outputs": [
    {
     "name": "stdout",
     "output_type": "stream",
     "text": [
      "Average Runtime of a series is 33.58037676609105 minutes\n"
     ]
    }
   ],
   "source": [
    "avg_series_runtime = netflix_series_df['Duration'].sum()/netflix_series_df.shape[0]\n",
    "print(\"Average Runtime of a series is {} minutes\".format(avg_series_runtime))"
   ]
  },
  {
   "cell_type": "markdown",
   "metadata": {},
   "source": [
    "#### Q2: What is the ratio of votes of top 10 movies or series to the total number of votes?"
   ]
  },
  {
   "cell_type": "code",
   "execution_count": 49,
   "metadata": {},
   "outputs": [
    {
     "name": "stdout",
     "output_type": "stream",
     "text": [
      "The ratio of votes of top 10 movies to the total number of votes is 0.13698175135850033 \n"
     ]
    }
   ],
   "source": [
    "ratio_votes_movie = netflix_movie_df.sort_values('votes',ascending = False).votes.head(10).sum()/netflix_movie_df['votes'].sum()\n",
    "print(\"The ratio of votes of top 10 movies to the total number of votes is {} \".format(ratio_votes_movie))"
   ]
  },
  {
   "cell_type": "code",
   "execution_count": 50,
   "metadata": {},
   "outputs": [
    {
     "name": "stdout",
     "output_type": "stream",
     "text": [
      "The ratio of votes of top 10 movies to the total number of votes is 0.1683305150366694 \n"
     ]
    }
   ],
   "source": [
    "ratio_votes_series = netflix_series_df.sort_values('votes',ascending = False).votes.head(10).sum()/netflix_series_df['votes'].sum()\n",
    "print(\"The ratio of votes of top 10 movies to the total number of votes is {} \".format(ratio_votes_series))"
   ]
  },
  {
   "cell_type": "markdown",
   "metadata": {},
   "source": [
    "13.7% of total votes are for top 10 movies by votes and 16.8% of total votes are for top 10 series by votes"
   ]
  },
  {
   "cell_type": "markdown",
   "metadata": {},
   "source": [
    "#### Q3: Which is the highest rated series?"
   ]
  },
  {
   "cell_type": "code",
   "execution_count": 51,
   "metadata": {},
   "outputs": [
    {
     "name": "stdout",
     "output_type": "stream",
     "text": [
      "The highest rated series is BoJack Horseman\n"
     ]
    }
   ],
   "source": [
    "highest_rated_series = netflix_series_df.sort_values('rating',ascending = False).head(1)\n",
    "highest_rated_series = highest_rated_series.set_index('title')\n",
    "print('The highest rated series is {}'.format(highest_rated_series.index[0]))"
   ]
  },
  {
   "cell_type": "markdown",
   "metadata": {},
   "source": [
    "#### Q4: What are the top 5 genre of the series by votes?"
   ]
  },
  {
   "cell_type": "code",
   "execution_count": 52,
   "metadata": {},
   "outputs": [
    {
     "data": {
      "text/html": [
       "<div>\n",
       "<style scoped>\n",
       "    .dataframe tbody tr th:only-of-type {\n",
       "        vertical-align: middle;\n",
       "    }\n",
       "\n",
       "    .dataframe tbody tr th {\n",
       "        vertical-align: top;\n",
       "    }\n",
       "\n",
       "    .dataframe thead th {\n",
       "        text-align: right;\n",
       "    }\n",
       "</style>\n",
       "<table border=\"1\" class=\"dataframe\">\n",
       "  <thead>\n",
       "    <tr style=\"text-align: right;\">\n",
       "      <th></th>\n",
       "      <th>title</th>\n",
       "      <th>genre</th>\n",
       "      <th>votes</th>\n",
       "    </tr>\n",
       "  </thead>\n",
       "  <tbody>\n",
       "    <tr>\n",
       "      <th>0</th>\n",
       "      <td>Cobra Kai</td>\n",
       "      <td>Action, Comedy, Drama</td>\n",
       "      <td>177031.0</td>\n",
       "    </tr>\n",
       "    <tr>\n",
       "      <th>1</th>\n",
       "      <td>The Crown</td>\n",
       "      <td>Biography, Drama, History</td>\n",
       "      <td>199885.0</td>\n",
       "    </tr>\n",
       "    <tr>\n",
       "      <th>2</th>\n",
       "      <td>Better Call Saul</td>\n",
       "      <td>Crime, Drama</td>\n",
       "      <td>501384.0</td>\n",
       "    </tr>\n",
       "    <tr>\n",
       "      <th>3</th>\n",
       "      <td>Devil in Ohio</td>\n",
       "      <td>Drama, Horror, Mystery</td>\n",
       "      <td>9773.0</td>\n",
       "    </tr>\n",
       "    <tr>\n",
       "      <th>4</th>\n",
       "      <td>Cyberpunk: Edgerunners</td>\n",
       "      <td>Animation, Action, Adventure</td>\n",
       "      <td>15413.0</td>\n",
       "    </tr>\n",
       "  </tbody>\n",
       "</table>\n",
       "</div>"
      ],
      "text/plain": [
       "                    title                         genre     votes\n",
       "0               Cobra Kai         Action, Comedy, Drama  177031.0\n",
       "1               The Crown     Biography, Drama, History  199885.0\n",
       "2        Better Call Saul                  Crime, Drama  501384.0\n",
       "3           Devil in Ohio        Drama, Horror, Mystery    9773.0\n",
       "4  Cyberpunk: Edgerunners  Animation, Action, Adventure   15413.0"
      ]
     },
     "execution_count": 52,
     "metadata": {},
     "output_type": "execute_result"
    }
   ],
   "source": [
    "series_genre_df = netflix_series_df[['title','genre','votes']]\n",
    "series_genre_df.head()"
   ]
  },
  {
   "cell_type": "code",
   "execution_count": 53,
   "metadata": {},
   "outputs": [
    {
     "data": {
      "text/html": [
       "<div>\n",
       "<style scoped>\n",
       "    .dataframe tbody tr th:only-of-type {\n",
       "        vertical-align: middle;\n",
       "    }\n",
       "\n",
       "    .dataframe tbody tr th {\n",
       "        vertical-align: top;\n",
       "    }\n",
       "\n",
       "    .dataframe thead th {\n",
       "        text-align: right;\n",
       "    }\n",
       "</style>\n",
       "<table border=\"1\" class=\"dataframe\">\n",
       "  <thead>\n",
       "    <tr style=\"text-align: right;\">\n",
       "      <th></th>\n",
       "      <th>title</th>\n",
       "      <th>votes</th>\n",
       "      <th>values</th>\n",
       "      <th>genre</th>\n",
       "    </tr>\n",
       "  </thead>\n",
       "  <tbody>\n",
       "    <tr>\n",
       "      <th>0</th>\n",
       "      <td>Cobra Kai</td>\n",
       "      <td>177031.0</td>\n",
       "      <td>0</td>\n",
       "      <td>Action</td>\n",
       "    </tr>\n",
       "    <tr>\n",
       "      <th>1</th>\n",
       "      <td>Cobra Kai</td>\n",
       "      <td>177031.0</td>\n",
       "      <td>1</td>\n",
       "      <td>Comedy</td>\n",
       "    </tr>\n",
       "    <tr>\n",
       "      <th>2</th>\n",
       "      <td>Cobra Kai</td>\n",
       "      <td>177031.0</td>\n",
       "      <td>2</td>\n",
       "      <td>Drama</td>\n",
       "    </tr>\n",
       "    <tr>\n",
       "      <th>3</th>\n",
       "      <td>The Crown</td>\n",
       "      <td>199885.0</td>\n",
       "      <td>0</td>\n",
       "      <td>Biography</td>\n",
       "    </tr>\n",
       "    <tr>\n",
       "      <th>4</th>\n",
       "      <td>The Crown</td>\n",
       "      <td>199885.0</td>\n",
       "      <td>1</td>\n",
       "      <td>Drama</td>\n",
       "    </tr>\n",
       "  </tbody>\n",
       "</table>\n",
       "</div>"
      ],
      "text/plain": [
       "       title     votes  values      genre\n",
       "0  Cobra Kai  177031.0       0     Action\n",
       "1  Cobra Kai  177031.0       1     Comedy\n",
       "2  Cobra Kai  177031.0       2      Drama\n",
       "3  The Crown  199885.0       0  Biography\n",
       "4  The Crown  199885.0       1      Drama"
      ]
     },
     "execution_count": 53,
     "metadata": {},
     "output_type": "execute_result"
    }
   ],
   "source": [
    "split_genre_series = series_genre_df.set_index(['title','votes']).genre.str.split(',',expand = True)\n",
    "split_genre_series.columns.name = 'values'\n",
    "stack_genre_series = split_genre_series.stack()\n",
    "stack_genre_series.name = 'genre'\n",
    "top_series = stack_genre_series.reset_index()\n",
    "top_series.head()"
   ]
  },
  {
   "cell_type": "code",
   "execution_count": 54,
   "metadata": {},
   "outputs": [
    {
     "data": {
      "text/plain": [
       "27"
      ]
     },
     "execution_count": 54,
     "metadata": {},
     "output_type": "execute_result"
    }
   ],
   "source": [
    "top_series['genre'] = top_series.genre.str.strip()\n",
    "len(top_series.genre.unique())"
   ]
  },
  {
   "cell_type": "markdown",
   "metadata": {},
   "source": [
    "There are 27 different genre series in the Netflix platform"
   ]
  },
  {
   "cell_type": "code",
   "execution_count": 55,
   "metadata": {},
   "outputs": [
    {
     "data": {
      "text/html": [
       "<div>\n",
       "<style scoped>\n",
       "    .dataframe tbody tr th:only-of-type {\n",
       "        vertical-align: middle;\n",
       "    }\n",
       "\n",
       "    .dataframe tbody tr th {\n",
       "        vertical-align: top;\n",
       "    }\n",
       "\n",
       "    .dataframe thead th {\n",
       "        text-align: right;\n",
       "    }\n",
       "</style>\n",
       "<table border=\"1\" class=\"dataframe\">\n",
       "  <thead>\n",
       "    <tr style=\"text-align: right;\">\n",
       "      <th></th>\n",
       "      <th>genre</th>\n",
       "      <th>votes</th>\n",
       "    </tr>\n",
       "  </thead>\n",
       "  <tbody>\n",
       "    <tr>\n",
       "      <th>7</th>\n",
       "      <td>Drama</td>\n",
       "      <td>49030103.0</td>\n",
       "    </tr>\n",
       "    <tr>\n",
       "      <th>5</th>\n",
       "      <td>Crime</td>\n",
       "      <td>21330838.0</td>\n",
       "    </tr>\n",
       "    <tr>\n",
       "      <th>4</th>\n",
       "      <td>Comedy</td>\n",
       "      <td>16842211.0</td>\n",
       "    </tr>\n",
       "    <tr>\n",
       "      <th>0</th>\n",
       "      <td>Action</td>\n",
       "      <td>16348371.0</td>\n",
       "    </tr>\n",
       "    <tr>\n",
       "      <th>1</th>\n",
       "      <td>Adventure</td>\n",
       "      <td>11666664.0</td>\n",
       "    </tr>\n",
       "  </tbody>\n",
       "</table>\n",
       "</div>"
      ],
      "text/plain": [
       "       genre       votes\n",
       "7      Drama  49030103.0\n",
       "5      Crime  21330838.0\n",
       "4     Comedy  16842211.0\n",
       "0     Action  16348371.0\n",
       "1  Adventure  11666664.0"
      ]
     },
     "execution_count": 55,
     "metadata": {},
     "output_type": "execute_result"
    }
   ],
   "source": [
    "top_series.groupby('genre')['votes'].sum().rename('votes').reset_index().sort_values('votes',ascending = False).head(5)"
   ]
  },
  {
   "cell_type": "markdown",
   "metadata": {},
   "source": [
    "#### Q5: Does rating above 7.0 really influence the votes?"
   ]
  },
  {
   "cell_type": "code",
   "execution_count": 56,
   "metadata": {},
   "outputs": [
    {
     "name": "stdout",
     "output_type": "stream",
     "text": [
      "The ratio of votes of the movies above 7.0 rating to the total number of votes is 0.5536155161718146\n"
     ]
    }
   ],
   "source": [
    "ratio_movie_rating = netflix_movie_df.loc[netflix_movie_df['rating'] > 7.0, 'votes'].sum() / netflix_movie_df.votes.sum()\n",
    "print('The ratio of votes of the movies above 7.0 rating to the total number of votes is {}'.format(ratio_movie_rating))"
   ]
  },
  {
   "cell_type": "code",
   "execution_count": 57,
   "metadata": {},
   "outputs": [
    {
     "name": "stdout",
     "output_type": "stream",
     "text": [
      "The ratio of votes of the series above 7.0 rating to the total number of votes is 0.918759225213698\n"
     ]
    }
   ],
   "source": [
    "ratio_series_rating = netflix_series_df.loc[netflix_series_df['rating'] > 7.0, 'votes'].sum() / netflix_series_df.votes.sum()\n",
    "print('The ratio of votes of the series above 7.0 rating to the total number of votes is {}'.format(ratio_series_rating))"
   ]
  },
  {
   "cell_type": "markdown",
   "metadata": {},
   "source": [
    "55% of votes were given to movies having a rating above 7.0 and interestingly 92% of votes were given to series having a rating above 7.0. This shows that rating highly influence the likeability."
   ]
  },
  {
   "cell_type": "code",
   "execution_count": 58,
   "metadata": {},
   "outputs": [],
   "source": [
    "import jovian"
   ]
  },
  {
   "cell_type": "code",
   "execution_count": 59,
   "metadata": {},
   "outputs": [
    {
     "data": {
      "application/javascript": [
       "window.require && require([\"base/js/namespace\"],function(Jupyter){Jupyter.notebook.save_checkpoint()})"
      ],
      "text/plain": [
       "<IPython.core.display.Javascript object>"
      ]
     },
     "metadata": {},
     "output_type": "display_data"
    },
    {
     "name": "stdout",
     "output_type": "stream",
     "text": [
      "[jovian] Updating notebook \"lakshminarayanan-ravikumar/netflix-popular-movies-and-series\" on https://jovian.ai\u001b[0m\n",
      "[jovian] Committed successfully! https://jovian.ai/lakshminarayanan-ravikumar/netflix-popular-movies-and-series\u001b[0m\n"
     ]
    },
    {
     "data": {
      "text/plain": [
       "'https://jovian.ai/lakshminarayanan-ravikumar/netflix-popular-movies-and-series'"
      ]
     },
     "execution_count": 59,
     "metadata": {},
     "output_type": "execute_result"
    }
   ],
   "source": [
    "jovian.commit()"
   ]
  },
  {
   "cell_type": "markdown",
   "metadata": {},
   "source": [
    "## Inferences and Conclusion\n",
    "\n",
    "**Now that was a great Exploratory Data Analysis done on the Netflix Dataset from kaggle. The following are some of the interesting inferences and conclusions that can be taken away from this analysis**"
   ]
  },
  {
   "cell_type": "markdown",
   "metadata": {},
   "source": [
    "**Assumption and generalization** \n",
    "- The shows that have duration between 74 minutes and 209 minutes is categorized as movies (Data Source - Google), remaining shows are categorized as series\n",
    "- The shows that have duration and votes as a NAN float values are replaced by 0 in their corresponding columns\n",
    "- The shows that have a NAN value as genre is replaced by unknown"
   ]
  },
  {
   "cell_type": "markdown",
   "metadata": {},
   "source": [
    "**Inferences**\n",
    "- There are totally 28 movie genres and 27 series genres\n",
    "- From the histogram plot, more than 80% of the movies have a duration below 140 minutes and more than 95% of the series are in the 0 - 100 duration. The series above 100 minutes can be ignored, since it can be the sum of all the episodes in the series.\n",
    "- 9 out of 10 movies in the top 10 voted movie list and 10 out of 10 series in the top 10 voted series list has a rating greater than 8.0, it would be interesting to find the correlation between rating and votes.\n",
    "- Looking at the scatter plot between ratings and votes it is evident that the trend between rating and votes is a positive correlation for both movies and series. \n",
    "- The duration of the series seems to be independent of the votes, but in case of movies, people prefer to watch movies in the duration of 80 mins to 150 mins.\n",
    "- The top 5 voted movie genres are Drama, Action, Adventure, Comedy, Crime\n",
    "- Average Runtime of a movie is 103.27237245609145 minutes and Average Runtime of a series is 33.58037676609105 minutes.\n",
    "- 13.7% of total votes are for top 10 movies by votes and 16.8% of total votes are for top 10 series by votes.\n",
    "- 55% of votes were given to movies having a rating above 7.0 and interestingly 92% of votes were given to series having a rating above 7.0. This shows that rating highly influence the likeability."
   ]
  },
  {
   "cell_type": "markdown",
   "metadata": {},
   "source": [
    "**Conclusion** - Starting with the positive correlation between ratings and votes and to the ratio of votes for shows having rating more 7.0 being more than 55% and 92% for movies and series correspondingly, it is evident that ratings are the major contributing factor for the number of votes."
   ]
  },
  {
   "cell_type": "code",
   "execution_count": 60,
   "metadata": {},
   "outputs": [],
   "source": [
    "import jovian"
   ]
  },
  {
   "cell_type": "code",
   "execution_count": 61,
   "metadata": {},
   "outputs": [
    {
     "data": {
      "application/javascript": [
       "window.require && require([\"base/js/namespace\"],function(Jupyter){Jupyter.notebook.save_checkpoint()})"
      ],
      "text/plain": [
       "<IPython.core.display.Javascript object>"
      ]
     },
     "metadata": {},
     "output_type": "display_data"
    },
    {
     "name": "stdout",
     "output_type": "stream",
     "text": [
      "[jovian] Updating notebook \"lakshminarayanan-ravikumar/netflix-popular-movies-and-series\" on https://jovian.ai\u001b[0m\n",
      "[jovian] Committed successfully! https://jovian.ai/lakshminarayanan-ravikumar/netflix-popular-movies-and-series\u001b[0m\n"
     ]
    },
    {
     "data": {
      "text/plain": [
       "'https://jovian.ai/lakshminarayanan-ravikumar/netflix-popular-movies-and-series'"
      ]
     },
     "execution_count": 61,
     "metadata": {},
     "output_type": "execute_result"
    }
   ],
   "source": [
    "jovian.commit()"
   ]
  },
  {
   "cell_type": "code",
   "execution_count": null,
   "metadata": {},
   "outputs": [],
   "source": []
  }
 ],
 "metadata": {
  "kernelspec": {
   "display_name": "Python 3 (ipykernel)",
   "language": "python",
   "name": "python3"
  },
  "language_info": {
   "codemirror_mode": {
    "name": "ipython",
    "version": 3
   },
   "file_extension": ".py",
   "mimetype": "text/x-python",
   "name": "python",
   "nbconvert_exporter": "python",
   "pygments_lexer": "ipython3",
   "version": "3.9.6"
  }
 },
 "nbformat": 4,
 "nbformat_minor": 4
}
